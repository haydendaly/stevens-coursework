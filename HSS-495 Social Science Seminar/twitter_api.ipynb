{
 "cells": [
  {
   "cell_type": "markdown",
   "id": "provincial-armor",
   "metadata": {},
   "source": [
    "# Twitter Sentiment Analysis\n",
    "\n",
    "https://towardsdatascience.com/step-by-step-twitter-sentiment-analysis-in-python-d6f650ade58d"
   ]
  },
  {
   "cell_type": "code",
   "execution_count": 1,
   "id": "referenced-combat",
   "metadata": {},
   "outputs": [
    {
     "name": "stderr",
     "output_type": "stream",
     "text": [
      "/Users/hayden/coursework/CS-583 Deep Learning/583_2/lib/python3.8/site-packages/pandas/compat/__init__.py:97: UserWarning: Could not import the lzma module. Your installed Python is incomplete. Attempting to use lzma compression will result in a RuntimeError.\n",
      "  warnings.warn(msg)\n"
     ]
    }
   ],
   "source": [
    "from textblob import TextBlob\n",
    "import sys\n",
    "import tweepy\n",
    "import matplotlib.pyplot as plt\n",
    "import pandas as pd\n",
    "import numpy as np\n",
    "import nltk\n",
    "import string\n",
    "from nltk.sentiment.vader import SentimentIntensityAnalyzer\n",
    "from langdetect import detect\n",
    "from nltk.stem import SnowballStemmer\n",
    "from nltk.sentiment.vader import SentimentIntensityAnalyzer\n",
    "from sklearn.feature_extraction.text import CountVectorizer"
   ]
  },
  {
   "cell_type": "code",
   "execution_count": 2,
   "id": "passing-great",
   "metadata": {},
   "outputs": [
    {
     "name": "stderr",
     "output_type": "stream",
     "text": [
      "[nltk_data] Downloading package vader_lexicon to\n",
      "[nltk_data]     /Users/hayden/nltk_data...\n",
      "[nltk_data]   Package vader_lexicon is already up-to-date!\n"
     ]
    },
    {
     "data": {
      "text/plain": [
       "True"
      ]
     },
     "execution_count": 2,
     "metadata": {},
     "output_type": "execute_result"
    }
   ],
   "source": [
    "nltk.download('vader_lexicon')"
   ]
  },
  {
   "cell_type": "code",
   "execution_count": 3,
   "id": "unlimited-bronze",
   "metadata": {},
   "outputs": [],
   "source": [
    "# Authentication\n",
    "consumerKey = \"tT2YN2AoCNk7rWv7j7OZwg3rv\"\n",
    "consumerSecret = \"muQg43uyRbratTjDj8LTtRldygaAeSDzqh42VpkOkomNz5NNp9\"\n",
    "accessToken = \"1169076072526336001-44GZHTdZEPM27g0VClsbFE0mcrxxov\"\n",
    "accessTokenSecret = \"reK5LPFhI6iIUhFeXU8RaWTNy2IQjOUzTC1d0wRXFMjFU\"\n",
    "auth = tweepy.OAuthHandler(consumerKey, consumerSecret)\n",
    "auth.set_access_token(accessToken, accessTokenSecret)\n",
    "api = tweepy.API(auth)"
   ]
  },
  {
   "cell_type": "code",
   "execution_count": 15,
   "id": "insured-killer",
   "metadata": {},
   "outputs": [],
   "source": [
    "#Sentiment Analysis\n",
    "def percentage(part,whole):\n",
    "     return 100 * float(part)/float(whole)\n",
    "\n",
    "def pull_data(keywords, filename, noOfTweet=1000):\n",
    "    tweets = tweepy.Cursor(api.search, q=keywords).items(noOfTweet)\n",
    "    positive = 0\n",
    "    negative = 0\n",
    "    neutral = 0\n",
    "    polarity = 0\n",
    "    tweet_list = []\n",
    "    all_tweets = []\n",
    "    neutral_list = []\n",
    "    negative_list = []\n",
    "    positive_list = []\n",
    "        \n",
    "    for tweet in tweets:\n",
    "        #print(tweet.text)\n",
    "        tweet_list.append(tweet.text)\n",
    "        all_tweets.append(tweet)\n",
    "        \n",
    "        analysis = TextBlob(tweet.text)\n",
    "        score = SentimentIntensityAnalyzer().polarity_scores(tweet.text)\n",
    "        neg = score[\"neg\"]\n",
    "        neu = score[\"neu\"]\n",
    "        pos = score[\"pos\"]\n",
    "        comp = score[\"compound\"]\n",
    "        polarity += analysis.sentiment.polarity\n",
    "\n",
    "        if neg > pos:\n",
    "            negative_list.append(tweet.text)\n",
    "            negative += 1\n",
    "        elif pos > neg:\n",
    "            positive_list.append(tweet.text)\n",
    "            positive += 1\n",
    "        elif pos == neg:\n",
    "            neutral_list.append(tweet.text)\n",
    "            neutral += 1\n",
    "    positive = percentage(positive, noOfTweet)\n",
    "    negative = percentage(negative, noOfTweet)\n",
    "    neutral = percentage(neutral, noOfTweet)\n",
    "    polarity = percentage(polarity, noOfTweet)\n",
    "    positive = format(positive, \".1f\")\n",
    "    negative = format(negative, \".1f\")\n",
    "    neutral = format(neutral, \".1f\")\n",
    "    \n",
    "    pd.DataFrame(all_tweets).to_csv(filename + \".csv\")\n",
    "    \n",
    "    tweet_list = pd.DataFrame(tweet_list)\n",
    "    neutral_list = pd.DataFrame(neutral_list)\n",
    "    negative_list = pd.DataFrame(negative_list)\n",
    "    positive_list = pd.DataFrame(positive_list)\n",
    "    print(\"total number: \",len(tweet_list))\n",
    "    print(\"positive number: \",len(positive_list))\n",
    "    print(\"negative number: \", len(negative_list))\n",
    "    print(\"neutral number: \",len(neutral_list))\n",
    "    return (tweet_list, neutral_list, positive_list, negative_list)"
   ]
  },
  {
   "cell_type": "code",
   "execution_count": 12,
   "id": "violent-length",
   "metadata": {},
   "outputs": [],
   "source": [
    "def graph_data(total, neu, pos, neg, keywords):\n",
    "    labels = [\n",
    "        \"Positive [\"+str(format(len(pos) / len(total) * 100, '.2f'))+\"%]\", \n",
    "        \"Neutral  [\"+str(format(len(neu) / len(total) * 100, '.2f'))+\"%]\",\n",
    "        \"Negative [\"+str(format(len(neg) / len(total) * 100, '.2f'))+\"%]\"\n",
    "    ]\n",
    "    sizes = [len(pos), len(neu), len(neg)]\n",
    "    colors = [\"yellowgreen\", \"blue\",\"red\"]\n",
    "    patches, texts = plt.pie(sizes,colors=colors, startangle=90)\n",
    "    plt.style.use(\"default\")\n",
    "    plt.legend(labels)\n",
    "    plt.title(\"Sentiment Analysis Result for: \" + keywords)\n",
    "    plt.axis(\"equal\")\n",
    "    plt.show()"
   ]
  },
  {
   "cell_type": "code",
   "execution_count": 13,
   "id": "circular-equality",
   "metadata": {},
   "outputs": [
    {
     "name": "stdout",
     "output_type": "stream",
     "text": [
      "total number:  81\n",
      "positive number:  8\n",
      "negative number:  21\n",
      "neutral number:  52\n"
     ]
    }
   ],
   "source": [
    "biden_all, biden_neu, biden_pos, biden_neg = pull_data(\"cnn hunter biden laptop\", \"biden\")"
   ]
  },
  {
   "cell_type": "code",
   "execution_count": 16,
   "id": "interpreted-generator",
   "metadata": {},
   "outputs": [
    {
     "name": "stdout",
     "output_type": "stream",
     "text": [
      "total number:  1000\n",
      "positive number:  255\n",
      "negative number:  559\n",
      "neutral number:  186\n"
     ]
    }
   ],
   "source": [
    "insur_all, insur_neu, insur_pos, insur_neg = pull_data(\"fox news insurrection\", \"insurrection\")"
   ]
  },
  {
   "cell_type": "code",
   "execution_count": 17,
   "id": "streaming-constitution",
   "metadata": {},
   "outputs": [
    {
     "data": {
      "image/png": "[encoded data removed]",
      "text/plain": [
       "<Figure size 432x288 with 1 Axes>"
      ]
     },
     "metadata": {},
     "output_type": "display_data"
    }
   ],
   "source": [
    "graph_data(biden_all, biden_neu, biden_pos, biden_neg, \"cnn hunter biden laptop\")"
   ]
  },
  {
   "cell_type": "code",
   "execution_count": 18,
   "id": "linear-location",
   "metadata": {},
   "outputs": [
    {
     "data": {
      "image/png": "[encoded data removed]",
      "text/plain": [
       "<Figure size 640x480 with 1 Axes>"
      ]
     },
     "metadata": {},
     "output_type": "display_data"
    }
   ],
   "source": [
    "graph_data(insur_all, insur_neu, insur_pos, insur_neg, \"fox news insurrection\")"
   ]
  },
  {
   "cell_type": "code",
   "execution_count": 24,
   "id": "standard-hybrid",
   "metadata": {},
   "outputs": [
    {
     "data": {
      "text/html": [
       "<div>\n",
       "<style scoped>\n",
       "    .dataframe tbody tr th:only-of-type {\n",
       "        vertical-align: middle;\n",
       "    }\n",
       "\n",
       "    .dataframe tbody tr th {\n",
       "        vertical-align: top;\n",
       "    }\n",
       "\n",
       "    .dataframe thead th {\n",
       "        text-align: right;\n",
       "    }\n",
       "</style>\n",
       "<table border=\"1\" class=\"dataframe\">\n",
       "  <thead>\n",
       "    <tr style=\"text-align: right;\">\n",
       "      <th></th>\n",
       "      <th>0</th>\n",
       "    </tr>\n",
       "  </thead>\n",
       "  <tbody>\n",
       "    <tr>\n",
       "      <th>0</th>\n",
       "      <td>Hey Democrats &amp;amp; the radical leftists, as m...</td>\n",
       "    </tr>\n",
       "    <tr>\n",
       "      <th>1</th>\n",
       "      <td>Imagine one of CNN's main BS manufacturers cla...</td>\n",
       "    </tr>\n",
       "    <tr>\n",
       "      <th>2</th>\n",
       "      <td>RT @machine1317: What? It’s no surprise to any...</td>\n",
       "    </tr>\n",
       "    <tr>\n",
       "      <th>3</th>\n",
       "      <td>#CNN is trying to discredit #FoxNews #Newsmax ...</td>\n",
       "    </tr>\n",
       "    <tr>\n",
       "      <th>4</th>\n",
       "      <td>@JennieSays_ @AhmedBaba_ When’s the last time ...</td>\n",
       "    </tr>\n",
       "    <tr>\n",
       "      <th>...</th>\n",
       "      <td>...</td>\n",
       "    </tr>\n",
       "    <tr>\n",
       "      <th>76</th>\n",
       "      <td>RT @bubbaprog: the FBI took possession of said...</td>\n",
       "    </tr>\n",
       "    <tr>\n",
       "      <th>77</th>\n",
       "      <td>RT @bubbaprog: the FBI took possession of said...</td>\n",
       "    </tr>\n",
       "    <tr>\n",
       "      <th>78</th>\n",
       "      <td>@CNN And a more important question is, “What’s...</td>\n",
       "    </tr>\n",
       "    <tr>\n",
       "      <th>79</th>\n",
       "      <td>@CNN And oddly the FBI didn’t want to take the...</td>\n",
       "    </tr>\n",
       "    <tr>\n",
       "      <th>80</th>\n",
       "      <td>RT @bubbaprog: the FBI took possession of said...</td>\n",
       "    </tr>\n",
       "  </tbody>\n",
       "</table>\n",
       "<p>81 rows × 1 columns</p>\n",
       "</div>"
      ],
      "text/plain": [
       "                                                    0\n",
       "0   Hey Democrats &amp; the radical leftists, as m...\n",
       "1   Imagine one of CNN's main BS manufacturers cla...\n",
       "2   RT @machine1317: What? It’s no surprise to any...\n",
       "3   #CNN is trying to discredit #FoxNews #Newsmax ...\n",
       "4   @JennieSays_ @AhmedBaba_ When’s the last time ...\n",
       "..                                                ...\n",
       "76  RT @bubbaprog: the FBI took possession of said...\n",
       "77  RT @bubbaprog: the FBI took possession of said...\n",
       "78  @CNN And a more important question is, “What’s...\n",
       "79  @CNN And oddly the FBI didn’t want to take the...\n",
       "80  RT @bubbaprog: the FBI took possession of said...\n",
       "\n",
       "[81 rows x 1 columns]"
      ]
     },
     "execution_count": 24,
     "metadata": {},
     "output_type": "execute_result"
    }
   ],
   "source": [
    "biden_all"
   ]
  },
  {
   "cell_type": "code",
   "execution_count": 26,
   "id": "interracial-generation",
   "metadata": {},
   "outputs": [
    {
     "data": {
      "text/html": [
       "<div>\n",
       "<style scoped>\n",
       "    .dataframe tbody tr th:only-of-type {\n",
       "        vertical-align: middle;\n",
       "    }\n",
       "\n",
       "    .dataframe tbody tr th {\n",
       "        vertical-align: top;\n",
       "    }\n",
       "\n",
       "    .dataframe thead th {\n",
       "        text-align: right;\n",
       "    }\n",
       "</style>\n",
       "<table border=\"1\" class=\"dataframe\">\n",
       "  <thead>\n",
       "    <tr style=\"text-align: right;\">\n",
       "      <th></th>\n",
       "      <th>0</th>\n",
       "    </tr>\n",
       "  </thead>\n",
       "  <tbody>\n",
       "    <tr>\n",
       "      <th>0</th>\n",
       "      <td>RT @Pulsa48: Fox news is a ruptured cesspool o...</td>\n",
       "    </tr>\n",
       "    <tr>\n",
       "      <th>1</th>\n",
       "      <td>The Republican “Fox” is no longer in the hen h...</td>\n",
       "    </tr>\n",
       "    <tr>\n",
       "      <th>2</th>\n",
       "      <td>RT @RevRalphEWill: FOX NEWS, IS MAINLY RESPONS...</td>\n",
       "    </tr>\n",
       "    <tr>\n",
       "      <th>3</th>\n",
       "      <td>#SundayMorning \\n'The pro-Trump media world pe...</td>\n",
       "    </tr>\n",
       "    <tr>\n",
       "      <th>4</th>\n",
       "      <td>🤮💩The \"bullshit factory\", also known as Fox Ne...</td>\n",
       "    </tr>\n",
       "    <tr>\n",
       "      <th>...</th>\n",
       "      <td>...</td>\n",
       "    </tr>\n",
       "    <tr>\n",
       "      <th>554</th>\n",
       "      <td>RT @joncoopertweets: 'Cowardly and sniveling p...</td>\n",
       "    </tr>\n",
       "    <tr>\n",
       "      <th>555</th>\n",
       "      <td>RT @joncoopertweets: 'Cowardly and sniveling p...</td>\n",
       "    </tr>\n",
       "    <tr>\n",
       "      <th>556</th>\n",
       "      <td>RT @joncoopertweets: 'Cowardly and sniveling p...</td>\n",
       "    </tr>\n",
       "    <tr>\n",
       "      <th>557</th>\n",
       "      <td>RT @joncoopertweets: 'Cowardly and sniveling p...</td>\n",
       "    </tr>\n",
       "    <tr>\n",
       "      <th>558</th>\n",
       "      <td>RT @joncoopertweets: 'Cowardly and sniveling p...</td>\n",
       "    </tr>\n",
       "  </tbody>\n",
       "</table>\n",
       "<p>559 rows × 1 columns</p>\n",
       "</div>"
      ],
      "text/plain": [
       "                                                     0\n",
       "0    RT @Pulsa48: Fox news is a ruptured cesspool o...\n",
       "1    The Republican “Fox” is no longer in the hen h...\n",
       "2    RT @RevRalphEWill: FOX NEWS, IS MAINLY RESPONS...\n",
       "3    #SundayMorning \\n'The pro-Trump media world pe...\n",
       "4    🤮💩The \"bullshit factory\", also known as Fox Ne...\n",
       "..                                                 ...\n",
       "554  RT @joncoopertweets: 'Cowardly and sniveling p...\n",
       "555  RT @joncoopertweets: 'Cowardly and sniveling p...\n",
       "556  RT @joncoopertweets: 'Cowardly and sniveling p...\n",
       "557  RT @joncoopertweets: 'Cowardly and sniveling p...\n",
       "558  RT @joncoopertweets: 'Cowardly and sniveling p...\n",
       "\n",
       "[559 rows x 1 columns]"
      ]
     },
     "execution_count": 26,
     "metadata": {},
     "output_type": "execute_result"
    }
   ],
   "source": [
    "insur_neg"
   ]
  },
  {
   "cell_type": "code",
   "execution_count": null,
   "id": "valuable-invitation",
   "metadata": {},
   "outputs": [],
   "source": []
  }
 ],
 "metadata": {
  "kernelspec": {
   "display_name": "583_2",
   "language": "python",
   "name": "583_2"
  },
  "language_info": {
   "codemirror_mode": {
    "name": "ipython",
    "version": 3
   },
   "file_extension": ".py",
   "mimetype": "text/x-python",
   "name": "python",
   "nbconvert_exporter": "python",
   "pygments_lexer": "ipython3",
   "version": "3.8.1"
  }
 },
 "nbformat": 4,
 "nbformat_minor": 5
}
