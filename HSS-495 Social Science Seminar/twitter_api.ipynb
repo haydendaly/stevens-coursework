{
 "cells": [
  {
   "cell_type": "markdown",
   "id": "provincial-armor",
   "metadata": {},
   "source": [
    "# Twitter Sentiment Analysis\n",
    "\n",
    "https://towardsdatascience.com/step-by-step-twitter-sentiment-analysis-in-python-d6f650ade58d"
   ]
  },
  {
   "cell_type": "code",
   "execution_count": 1,
   "id": "referenced-combat",
   "metadata": {},
   "outputs": [
    {
     "name": "stderr",
     "output_type": "stream",
     "text": [
      "/Users/hayden/coursework/CS-583 Deep Learning/583_2/lib/python3.8/site-packages/pandas/compat/__init__.py:97: UserWarning: Could not import the lzma module. Your installed Python is incomplete. Attempting to use lzma compression will result in a RuntimeError.\n",
      "  warnings.warn(msg)\n"
     ]
    }
   ],
   "source": [
    "from textblob import TextBlob\n",
    "import sys\n",
    "import tweepy\n",
    "import matplotlib.pyplot as plt\n",
    "import pandas as pd\n",
    "import numpy as np\n",
    "import nltk\n",
    "import string\n",
    "from nltk.sentiment.vader import SentimentIntensityAnalyzer\n",
    "from langdetect import detect\n",
    "from nltk.stem import SnowballStemmer\n",
    "from nltk.sentiment.vader import SentimentIntensityAnalyzer\n",
    "from sklearn.feature_extraction.text import CountVectorizer"
   ]
  },
  {
   "cell_type": "code",
   "execution_count": 2,
   "id": "passing-great",
   "metadata": {},
   "outputs": [
    {
     "name": "stderr",
     "output_type": "stream",
     "text": [
      "[nltk_data] Downloading package vader_lexicon to\n",
      "[nltk_data]     /Users/hayden/nltk_data...\n",
      "[nltk_data]   Package vader_lexicon is already up-to-date!\n"
     ]
    },
    {
     "data": {
      "text/plain": [
       "True"
      ]
     },
     "execution_count": 2,
     "metadata": {},
     "output_type": "execute_result"
    }
   ],
   "source": [
    "nltk.download('vader_lexicon')"
   ]
  },
  {
   "cell_type": "code",
   "execution_count": 3,
   "id": "unlimited-bronze",
   "metadata": {},
   "outputs": [],
   "source": [
    "# Authentication\n",
    "consumerKey = \"tT2YN2AoCNk7rWv7j7OZwg3rv\"\n",
    "consumerSecret = \"muQg43uyRbratTjDj8LTtRldygaAeSDzqh42VpkOkomNz5NNp9\"\n",
    "accessToken = \"1169076072526336001-44GZHTdZEPM27g0VClsbFE0mcrxxov\"\n",
    "accessTokenSecret = \"reK5LPFhI6iIUhFeXU8RaWTNy2IQjOUzTC1d0wRXFMjFU\"\n",
    "auth = tweepy.OAuthHandler(consumerKey, consumerSecret)\n",
    "auth.set_access_token(accessToken, accessTokenSecret)\n",
    "api = tweepy.API(auth)"
   ]
  },
  {
   "cell_type": "code",
   "execution_count": 7,
   "id": "insured-killer",
   "metadata": {},
   "outputs": [],
   "source": [
    "#Sentiment Analysis\n",
    "def percentage(part,whole):\n",
    "     return 100 * float(part)/float(whole)\n",
    "\n",
    "def pull_data(keywords, noOfTweet=10000):\n",
    "    tweets = tweepy.Cursor(api.search, q=keywords).items(noOfTweet)\n",
    "    positive = 0\n",
    "    negative = 0\n",
    "    neutral = 0\n",
    "    polarity = 0\n",
    "    tweet_list = []\n",
    "    neutral_list = []\n",
    "    negative_list = []\n",
    "    positive_list = []\n",
    "    for tweet in tweets:\n",
    "        #print(tweet.text)\n",
    "        tweet_list.append(tweet.text)\n",
    "        analysis = TextBlob(tweet.text)\n",
    "        score = SentimentIntensityAnalyzer().polarity_scores(tweet.text)\n",
    "        neg = score[\"neg\"]\n",
    "        neu = score[\"neu\"]\n",
    "        pos = score[\"pos\"]\n",
    "        comp = score[\"compound\"]\n",
    "        polarity += analysis.sentiment.polarity\n",
    "\n",
    "        if neg > pos:\n",
    "            negative_list.append(tweet.text)\n",
    "            negative += 1\n",
    "        elif pos > neg:\n",
    "            positive_list.append(tweet.text)\n",
    "            positive += 1\n",
    "        elif pos == neg:\n",
    "            neutral_list.append(tweet.text)\n",
    "            neutral += 1\n",
    "    positive = percentage(positive, noOfTweet)\n",
    "    negative = percentage(negative, noOfTweet)\n",
    "    neutral = percentage(neutral, noOfTweet)\n",
    "    polarity = percentage(polarity, noOfTweet)\n",
    "    positive = format(positive, \".1f\")\n",
    "    negative = format(negative, \".1f\")\n",
    "    neutral = format(neutral, \".1f\")\n",
    "    \n",
    "    tweet_list = pd.DataFrame(tweet_list)\n",
    "    neutral_list = pd.DataFrame(neutral_list)\n",
    "    negative_list = pd.DataFrame(negative_list)\n",
    "    positive_list = pd.DataFrame(positive_list)\n",
    "    print(\"total number: \",len(tweet_list))\n",
    "    print(\"positive number: \",len(positive_list))\n",
    "    print(\"negative number: \", len(negative_list))\n",
    "    print(\"neutral number: \",len(neutral_list))\n",
    "    return (tweet_list, neutral_list, positive_list, negative_list)"
   ]
  },
  {
   "cell_type": "code",
   "execution_count": 8,
   "id": "violent-length",
   "metadata": {},
   "outputs": [],
   "source": [
    "def graph_data(total, neu, pos, neg, keywords):\n",
    "    labels = [\n",
    "        \"Positive [\"+str(format(len(pos) / len(total) * 100, '.2f'))+\"%]\", \n",
    "        \"Neutral  [\"+str(format(len(neu) / len(total) * 100, '.2f'))+\"%]\",\n",
    "        \"Negative [\"+str(format(len(neg) / len(total) * 100, '.2f'))+\"%]\"\n",
    "    ]\n",
    "    sizes = [len(pos), len(neu), len(neg)]\n",
    "    colors = [\"yellowgreen\", \"blue\",\"red\"]\n",
    "    patches, texts = plt.pie(sizes,colors=colors, startangle=90)\n",
    "    plt.style.use(\"default\")\n",
    "    plt.legend(labels)\n",
    "    plt.title(\"Sentiment Analysis Result for: \" + keywords)\n",
    "    plt.axis(\"equal\")\n",
    "    plt.show()"
   ]
  },
  {
   "cell_type": "code",
   "execution_count": 9,
   "id": "circular-equality",
   "metadata": {},
   "outputs": [
    {
     "name": "stdout",
     "output_type": "stream",
     "text": [
      "total number:  89\n",
      "positive number:  22\n",
      "negative number:  44\n",
      "neutral number:  23\n"
     ]
    }
   ],
   "source": [
    "biden_all, biden_neu, biden_pos, biden_neg = pull_data(\"cnn hunter biden laptop\")"
   ]
  },
  {
   "cell_type": "code",
   "execution_count": 15,
   "id": "interpreted-generator",
   "metadata": {},
   "outputs": [
    {
     "name": "stdout",
     "output_type": "stream",
     "text": [
      "total number:  1000\n",
      "positive number:  24\n",
      "negative number:  855\n",
      "neutral number:  121\n"
     ]
    }
   ],
   "source": [
    "insur_all, insur_neu, insur_pos, insur_neg = pull_data(\"fox news insurrection\", 1000)"
   ]
  },
  {
   "cell_type": "code",
   "execution_count": 12,
   "id": "streaming-constitution",
   "metadata": {},
   "outputs": [
    {
     "data": {
      "image/png": "[encoded data removed]",
      "text/plain": [
       "<Figure size 432x288 with 1 Axes>"
      ]
     },
     "metadata": {},
     "output_type": "display_data"
    }
   ],
   "source": [
    "graph_data(biden_all, biden_neu, biden_pos, biden_neg, \"cnn hunter biden laptop\")"
   ]
  },
  {
   "cell_type": "code",
   "execution_count": 16,
   "id": "linear-location",
   "metadata": {},
   "outputs": [
    {
     "data": {
      "image/png": "[encoded data removed]",
      "text/plain": [
       "<Figure size 640x480 with 1 Axes>"
      ]
     },
     "metadata": {},
     "output_type": "display_data"
    }
   ],
   "source": [
    "graph_data(insur_all, insur_neu, insur_pos, insur_neg, \"fox news insurrection\")"
   ]
  },
  {
   "cell_type": "code",
   "execution_count": 13,
   "id": "standard-hybrid",
   "metadata": {},
   "outputs": [
    {
     "data": {
      "text/html": [
       "<div>\n",
       "<style scoped>\n",
       "    .dataframe tbody tr th:only-of-type {\n",
       "        vertical-align: middle;\n",
       "    }\n",
       "\n",
       "    .dataframe tbody tr th {\n",
       "        vertical-align: top;\n",
       "    }\n",
       "\n",
       "    .dataframe thead th {\n",
       "        text-align: right;\n",
       "    }\n",
       "</style>\n",
       "<table border=\"1\" class=\"dataframe\">\n",
       "  <thead>\n",
       "    <tr style=\"text-align: right;\">\n",
       "      <th></th>\n",
       "      <th>0</th>\n",
       "    </tr>\n",
       "  </thead>\n",
       "  <tbody>\n",
       "    <tr>\n",
       "      <th>0</th>\n",
       "      <td>RT @MrChrisBits: @GatorsSean We should throw N...</td>\n",
       "    </tr>\n",
       "    <tr>\n",
       "      <th>1</th>\n",
       "      <td>@GatorsSean We should throw NYT, WaPo and CNN ...</td>\n",
       "    </tr>\n",
       "    <tr>\n",
       "      <th>2</th>\n",
       "      <td>@msnbc @cnn @nytimes @wapo I need those crack ...</td>\n",
       "    </tr>\n",
       "    <tr>\n",
       "      <th>3</th>\n",
       "      <td>RT @mtrumblejr: @GensuiTogo @benshapiro Hmmmm....</td>\n",
       "    </tr>\n",
       "    <tr>\n",
       "      <th>4</th>\n",
       "      <td>@robinandriver @allenpope @60Minutes CNN??? Th...</td>\n",
       "    </tr>\n",
       "    <tr>\n",
       "      <th>...</th>\n",
       "      <td>...</td>\n",
       "    </tr>\n",
       "    <tr>\n",
       "      <th>84</th>\n",
       "      <td>@ABC @CBSNews @NBCNews @CNN \\nThe world is lau...</td>\n",
       "    </tr>\n",
       "    <tr>\n",
       "      <th>85</th>\n",
       "      <td>@DonaldJTrumpJr @CNN @donlemon  @ChrisCuomo  @...</td>\n",
       "    </tr>\n",
       "    <tr>\n",
       "      <th>86</th>\n",
       "      <td>@Gaytheist4 @NPR Youre sure about that? Do the...</td>\n",
       "    </tr>\n",
       "    <tr>\n",
       "      <th>87</th>\n",
       "      <td>@Puffman81252248 @valoriejk @greggutfeld Cuomo...</td>\n",
       "    </tr>\n",
       "    <tr>\n",
       "      <th>88</th>\n",
       "      <td>@jinxidoru @NewLiberalsPod You didn't look? Li...</td>\n",
       "    </tr>\n",
       "  </tbody>\n",
       "</table>\n",
       "<p>89 rows × 1 columns</p>\n",
       "</div>"
      ],
      "text/plain": [
       "                                                    0\n",
       "0   RT @MrChrisBits: @GatorsSean We should throw N...\n",
       "1   @GatorsSean We should throw NYT, WaPo and CNN ...\n",
       "2   @msnbc @cnn @nytimes @wapo I need those crack ...\n",
       "3   RT @mtrumblejr: @GensuiTogo @benshapiro Hmmmm....\n",
       "4   @robinandriver @allenpope @60Minutes CNN??? Th...\n",
       "..                                                ...\n",
       "84  @ABC @CBSNews @NBCNews @CNN \\nThe world is lau...\n",
       "85  @DonaldJTrumpJr @CNN @donlemon  @ChrisCuomo  @...\n",
       "86  @Gaytheist4 @NPR Youre sure about that? Do the...\n",
       "87  @Puffman81252248 @valoriejk @greggutfeld Cuomo...\n",
       "88  @jinxidoru @NewLiberalsPod You didn't look? Li...\n",
       "\n",
       "[89 rows x 1 columns]"
      ]
     },
     "execution_count": 13,
     "metadata": {},
     "output_type": "execute_result"
    }
   ],
   "source": [
    "biden_all"
   ]
  },
  {
   "cell_type": "code",
   "execution_count": 17,
   "id": "interracial-generation",
   "metadata": {},
   "outputs": [
    {
     "data": {
      "text/html": [
       "<div>\n",
       "<style scoped>\n",
       "    .dataframe tbody tr th:only-of-type {\n",
       "        vertical-align: middle;\n",
       "    }\n",
       "\n",
       "    .dataframe tbody tr th {\n",
       "        vertical-align: top;\n",
       "    }\n",
       "\n",
       "    .dataframe thead th {\n",
       "        text-align: right;\n",
       "    }\n",
       "</style>\n",
       "<table border=\"1\" class=\"dataframe\">\n",
       "  <thead>\n",
       "    <tr style=\"text-align: right;\">\n",
       "      <th></th>\n",
       "      <th>0</th>\n",
       "    </tr>\n",
       "  </thead>\n",
       "  <tbody>\n",
       "    <tr>\n",
       "      <th>0</th>\n",
       "      <td>RT @farfelpippic: @georgehartmann So sad that ...</td>\n",
       "    </tr>\n",
       "    <tr>\n",
       "      <th>1</th>\n",
       "      <td>RT @WalshFreedom: And by the way, all these co...</td>\n",
       "    </tr>\n",
       "    <tr>\n",
       "      <th>2</th>\n",
       "      <td>RT @farfelpippic: @georgehartmann So sad that ...</td>\n",
       "    </tr>\n",
       "    <tr>\n",
       "      <th>3</th>\n",
       "      <td>RT @WalshFreedom: And by the way, all these co...</td>\n",
       "    </tr>\n",
       "    <tr>\n",
       "      <th>4</th>\n",
       "      <td>RT @farfelpippic: @georgehartmann So sad that ...</td>\n",
       "    </tr>\n",
       "    <tr>\n",
       "      <th>...</th>\n",
       "      <td>...</td>\n",
       "    </tr>\n",
       "    <tr>\n",
       "      <th>995</th>\n",
       "      <td>RT @WalshFreedom: And by the way, all these co...</td>\n",
       "    </tr>\n",
       "    <tr>\n",
       "      <th>996</th>\n",
       "      <td>RT @WalshFreedom: And by the way, all these co...</td>\n",
       "    </tr>\n",
       "    <tr>\n",
       "      <th>997</th>\n",
       "      <td>RT @WalshFreedom: And by the way, all these co...</td>\n",
       "    </tr>\n",
       "    <tr>\n",
       "      <th>998</th>\n",
       "      <td>RT @WalshFreedom: And by the way, all these co...</td>\n",
       "    </tr>\n",
       "    <tr>\n",
       "      <th>999</th>\n",
       "      <td>RT @WalshFreedom: And by the way, all these co...</td>\n",
       "    </tr>\n",
       "  </tbody>\n",
       "</table>\n",
       "<p>1000 rows × 1 columns</p>\n",
       "</div>"
      ],
      "text/plain": [
       "                                                     0\n",
       "0    RT @farfelpippic: @georgehartmann So sad that ...\n",
       "1    RT @WalshFreedom: And by the way, all these co...\n",
       "2    RT @farfelpippic: @georgehartmann So sad that ...\n",
       "3    RT @WalshFreedom: And by the way, all these co...\n",
       "4    RT @farfelpippic: @georgehartmann So sad that ...\n",
       "..                                                 ...\n",
       "995  RT @WalshFreedom: And by the way, all these co...\n",
       "996  RT @WalshFreedom: And by the way, all these co...\n",
       "997  RT @WalshFreedom: And by the way, all these co...\n",
       "998  RT @WalshFreedom: And by the way, all these co...\n",
       "999  RT @WalshFreedom: And by the way, all these co...\n",
       "\n",
       "[1000 rows x 1 columns]"
      ]
     },
     "execution_count": 17,
     "metadata": {},
     "output_type": "execute_result"
    }
   ],
   "source": [
    "insur_all"
   ]
  },
  {
   "cell_type": "code",
   "execution_count": null,
   "id": "valuable-invitation",
   "metadata": {},
   "outputs": [],
   "source": []
  }
 ],
 "metadata": {
  "kernelspec": {
   "display_name": "583_2",
   "language": "python",
   "name": "583_2"
  },
  "language_info": {
   "codemirror_mode": {
    "name": "ipython",
    "version": 3
   },
   "file_extension": ".py",
   "mimetype": "text/x-python",
   "name": "python",
   "nbconvert_exporter": "python",
   "pygments_lexer": "ipython3",
   "version": "3.8.1"
  }
 },
 "nbformat": 4,
 "nbformat_minor": 5
}
