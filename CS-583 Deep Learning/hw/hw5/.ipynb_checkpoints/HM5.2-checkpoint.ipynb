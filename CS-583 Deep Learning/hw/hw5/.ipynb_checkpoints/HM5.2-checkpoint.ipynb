{
 "cells": [
  {
   "cell_type": "markdown",
   "metadata": {},
   "source": [
    "# Home 5: Build a seq2seq model for machine translation.\n",
    "\n",
    "### Name: [Your-Name?]\n",
    "\n",
    "### Task: Translate English to [what-language?]"
   ]
  },
  {
   "cell_type": "markdown",
   "metadata": {},
   "source": [
    "## 0. You will do the following:\n",
    "\n",
    "1. Read and run my code.\n",
    "2. Complete the code in Section 1.1 and Section 4.2.\n",
    "\n",
    "    * Translation **English** to **German** is not acceptable!!! Try another pair of languages.\n",
    "    \n",
    "3. **Make improvements.** Directly modify the code in Section 3. Do at least one of the two. By doing both correctly, you will get up to 1 bonus score to the total.\n",
    "\n",
    "    * Bi-LSTM instead of LSTM.\n",
    "        \n",
    "    * Attention. (You are allowed to use existing code.)\n",
    "    \n",
    "4. Evaluate the translation using the BLEU score. \n",
    "\n",
    "    * Optional. Up to 1 bonus scores to the total.\n",
    "    \n",
    "5. Convert the notebook to .HTML file. \n",
    "\n",
    "    * The HTML file must contain the code and the output after execution.\n",
    "\n",
    "6. Put the .HTML file in your Google Drive, Dropbox, or Github repo.  (If you submit the file to Google Drive or Dropbox, you must make the file \"open-access\". The delay caused by \"deny of access\" may result in late penalty.)\n",
    "\n",
    "7. Submit the link to the HTML file to Canvas.    \n"
   ]
  },
  {
   "cell_type": "markdown",
   "metadata": {},
   "source": [
    "### Hint: \n",
    "\n",
    "To implement ```Bi-LSTM```, you will need the following code to build the encoder. Do NOT use Bi-LSTM for the decoder."
   ]
  },
  {
   "cell_type": "code",
   "execution_count": 1,
   "metadata": {},
   "outputs": [
    {
     "name": "stderr",
     "output_type": "stream",
     "text": [
      "/Users/hayden/coursework/CS-583 Deep Learning/583_2/lib/python3.8/site-packages/pandas/compat/__init__.py:97: UserWarning: Could not import the lzma module. Your installed Python is incomplete. Attempting to use lzma compression will result in a RuntimeError.\n",
      "  warnings.warn(msg)\n"
     ]
    }
   ],
   "source": [
    "from keras.layers import Bidirectional, Concatenate, LSTM\n",
    "\n",
    "encoder_bilstm = Bidirectional(LSTM(latent_dim, return_state=True, \n",
    "                                  dropout=0.5, name='encoder_lstm'))\n",
    "_, forward_h, forward_c, backward_h, backward_c = encoder_bilstm(encoder_inputs)\n",
    "\n",
    "state_h = Concatenate()([forward_h, backward_h])\n",
    "state_c = Concatenate()([forward_c, backward_c])"
   ]
  },
  {
   "cell_type": "markdown",
   "metadata": {},
   "source": [
    "## 1. Data preparation\n",
    "\n",
    "1. Download data (e.g., \"deu-eng.zip\") from http://www.manythings.org/anki/\n",
    "2. Unzip the .ZIP file.\n",
    "3. Put the .TXT file (e.g., \"deu.txt\") in the directory \"./Data/\"."
   ]
  },
  {
   "cell_type": "markdown",
   "metadata": {},
   "source": [
    "### 1.1. Load and clean text\n"
   ]
  },
  {
   "cell_type": "code",
   "execution_count": 1,
   "metadata": {},
   "outputs": [],
   "source": [
    "import re\n",
    "import string\n",
    "from unicodedata import normalize\n",
    "import numpy\n",
    "\n",
    "# load doc into memory\n",
    "def load_doc(filename):\n",
    "    # open the file as read only\n",
    "    file = open(filename, mode='rt', encoding='utf-8')\n",
    "    # read all text\n",
    "    text = file.read()\n",
    "    # close the file\n",
    "    file.close()\n",
    "    return text\n",
    "\n",
    "\n",
    "# split a loaded document into sentences\n",
    "def to_pairs(doc):\n",
    "    lines = doc.strip().split('\\n')\n",
    "    pairs = [line.split('\\t') for line in  lines]\n",
    "    return pairs\n",
    "\n",
    "def clean_data(lines):\n",
    "    cleaned = list()\n",
    "    # prepare regex for char filtering\n",
    "    re_print = re.compile('[^%s]' % re.escape(string.printable))\n",
    "    # prepare translation table for removing punctuation\n",
    "    table = str.maketrans('', '', string.punctuation)\n",
    "    for pair in lines:\n",
    "        clean_pair = list()\n",
    "        for line in pair:\n",
    "            # normalize unicode characters\n",
    "            line = normalize('NFD', line).encode('ascii', 'ignore')\n",
    "            line = line.decode('UTF-8')\n",
    "            # tokenize on white space\n",
    "            line = line.split()\n",
    "            # convert to lowercase\n",
    "            line = [word.lower() for word in line]\n",
    "            # remove punctuation from each token\n",
    "            line = [word.translate(table) for word in line]\n",
    "            # remove non-printable chars form each token\n",
    "            line = [re_print.sub('', w) for w in line]\n",
    "            # remove tokens with numbers in them\n",
    "            line = [word for word in line if word.isalpha()]\n",
    "            # store as string\n",
    "            clean_pair.append(' '.join(line))\n",
    "        cleaned.append(clean_pair)\n",
    "    return numpy.array(cleaned)"
   ]
  },
  {
   "cell_type": "markdown",
   "metadata": {},
   "source": [
    "#### Fill the following blanks:"
   ]
  },
  {
   "cell_type": "code",
   "execution_count": 2,
   "metadata": {},
   "outputs": [],
   "source": [
    "# e.g., filename = 'Data/deu.txt'\n",
    "filename = 'ita-eng/ita.txt'\n",
    "\n",
    "# e.g., n_train = 20000\n",
    "n_train = 20000"
   ]
  },
  {
   "cell_type": "code",
   "execution_count": 3,
   "metadata": {},
   "outputs": [],
   "source": [
    "# load dataset\n",
    "doc = load_doc(filename)\n",
    "\n",
    "# split into Language1-Language2 pairs\n",
    "pairs = to_pairs(doc)\n",
    "\n",
    "# clean sentences\n",
    "clean_pairs = clean_data(pairs)[0:n_train, :]"
   ]
  },
  {
   "cell_type": "code",
   "execution_count": 4,
   "metadata": {},
   "outputs": [
    {
     "name": "stdout",
     "output_type": "stream",
     "text": [
      "[i resigned] => [diedi le dimissioni]\n",
      "[i resigned] => [io diedi le dimissioni]\n",
      "[i saw them] => [li ho visti]\n",
      "[i saw them] => [io li ho visti]\n",
      "[i saw them] => [le ho viste]\n",
      "[i saw them] => [io le ho viste]\n",
      "[i screamed] => [ho urlato]\n",
      "[i screamed] => [io ho urlato]\n",
      "[i screamed] => [urlai]\n",
      "[i screamed] => [io urlai]\n"
     ]
    }
   ],
   "source": [
    "for i in range(3000, 3010):\n",
    "    print('[' + clean_pairs[i, 0] + '] => [' + clean_pairs[i, 1] + ']')"
   ]
  },
  {
   "cell_type": "code",
   "execution_count": 5,
   "metadata": {},
   "outputs": [
    {
     "name": "stdout",
     "output_type": "stream",
     "text": [
      "Length of input_texts:  (20000,)\n",
      "Length of target_texts: (20000,)\n"
     ]
    }
   ],
   "source": [
    "input_texts = clean_pairs[:, 0]\n",
    "target_texts = ['\\t' + text + '\\n' for text in clean_pairs[:, 1]]\n",
    "\n",
    "print('Length of input_texts:  ' + str(input_texts.shape))\n",
    "print('Length of target_texts: ' + str(input_texts.shape))"
   ]
  },
  {
   "cell_type": "code",
   "execution_count": 6,
   "metadata": {},
   "outputs": [
    {
     "name": "stdout",
     "output_type": "stream",
     "text": [
      "max length of input  sentences: 14\n",
      "max length of target sentences: 41\n"
     ]
    }
   ],
   "source": [
    "max_encoder_seq_length = max(len(line) for line in input_texts)\n",
    "max_decoder_seq_length = max(len(line) for line in target_texts)\n",
    "\n",
    "print('max length of input  sentences: %d' % (max_encoder_seq_length))\n",
    "print('max length of target sentences: %d' % (max_decoder_seq_length))"
   ]
  },
  {
   "cell_type": "markdown",
   "metadata": {},
   "source": [
    "**Remark:** To this end, you have two lists of sentences: input_texts and target_texts"
   ]
  },
  {
   "cell_type": "markdown",
   "metadata": {},
   "source": [
    "## 2. Text processing\n",
    "\n",
    "### 2.1. Convert texts to sequences\n",
    "\n",
    "- Input: A list of $n$ sentences (with max length $t$).\n",
    "- It is represented by a $n\\times t$ matrix after the tokenization and zero-padding."
   ]
  },
  {
   "cell_type": "code",
   "execution_count": 7,
   "metadata": {},
   "outputs": [
    {
     "name": "stderr",
     "output_type": "stream",
     "text": [
      "/Users/hayden/coursework/CS-583 Deep Learning/583_2/lib/python3.8/site-packages/pandas/compat/__init__.py:97: UserWarning: Could not import the lzma module. Your installed Python is incomplete. Attempting to use lzma compression will result in a RuntimeError.\n",
      "  warnings.warn(msg)\n"
     ]
    },
    {
     "name": "stdout",
     "output_type": "stream",
     "text": [
      "shape of encoder_input_seq: (20000, 14)\n",
      "shape of input_token_index: 27\n",
      "shape of decoder_input_seq: (20000, 41)\n",
      "shape of target_token_index: 29\n"
     ]
    }
   ],
   "source": [
    "from keras.preprocessing.text import Tokenizer\n",
    "from keras.preprocessing.sequence import pad_sequences\n",
    "\n",
    "# encode and pad sequences\n",
    "def text2sequences(max_len, lines):\n",
    "    tokenizer = Tokenizer(char_level=True, filters='')\n",
    "    tokenizer.fit_on_texts(lines)\n",
    "    seqs = tokenizer.texts_to_sequences(lines)\n",
    "    seqs_pad = pad_sequences(seqs, maxlen=max_len, padding='post')\n",
    "    return seqs_pad, tokenizer.word_index\n",
    "\n",
    "\n",
    "encoder_input_seq, input_token_index = text2sequences(max_encoder_seq_length, \n",
    "                                                      input_texts)\n",
    "decoder_input_seq, target_token_index = text2sequences(max_decoder_seq_length, \n",
    "                                                       target_texts)\n",
    "\n",
    "print('shape of encoder_input_seq: ' + str(encoder_input_seq.shape))\n",
    "print('shape of input_token_index: ' + str(len(input_token_index)))\n",
    "print('shape of decoder_input_seq: ' + str(decoder_input_seq.shape))\n",
    "print('shape of target_token_index: ' + str(len(target_token_index)))"
   ]
  },
  {
   "cell_type": "code",
   "execution_count": 8,
   "metadata": {},
   "outputs": [
    {
     "name": "stdout",
     "output_type": "stream",
     "text": [
      "num_encoder_tokens: 28\n",
      "num_decoder_tokens: 30\n"
     ]
    }
   ],
   "source": [
    "num_encoder_tokens = len(input_token_index) + 1\n",
    "num_decoder_tokens = len(target_token_index) + 1\n",
    "\n",
    "print('num_encoder_tokens: ' + str(num_encoder_tokens))\n",
    "print('num_decoder_tokens: ' + str(num_decoder_tokens))"
   ]
  },
  {
   "cell_type": "markdown",
   "metadata": {},
   "source": [
    "**Remark:** To this end, the input language and target language texts are converted to 2 matrices. \n",
    "\n",
    "- Their number of rows are both n_train.\n",
    "- Their number of columns are respective max_encoder_seq_length and max_decoder_seq_length."
   ]
  },
  {
   "cell_type": "markdown",
   "metadata": {},
   "source": [
    "The followings print a sentence and its representation as a sequence."
   ]
  },
  {
   "cell_type": "code",
   "execution_count": 9,
   "metadata": {},
   "outputs": [
    {
     "data": {
      "text/plain": [
       "'\\tcapita\\n'"
      ]
     },
     "execution_count": 9,
     "metadata": {},
     "output_type": "execute_result"
    }
   ],
   "source": [
    "target_texts[100]"
   ]
  },
  {
   "cell_type": "code",
   "execution_count": 10,
   "metadata": {},
   "outputs": [
    {
     "data": {
      "text/plain": [
       "array([ 6, 14,  3, 17,  4,  8,  3,  7,  0,  0,  0,  0,  0,  0,  0,  0,  0,\n",
       "        0,  0,  0,  0,  0,  0,  0,  0,  0,  0,  0,  0,  0,  0,  0,  0,  0,\n",
       "        0,  0,  0,  0,  0,  0,  0], dtype=int32)"
      ]
     },
     "execution_count": 10,
     "metadata": {},
     "output_type": "execute_result"
    }
   ],
   "source": [
    "decoder_input_seq[100, :]"
   ]
  },
  {
   "cell_type": "markdown",
   "metadata": {},
   "source": [
    "## 2.2. One-hot encode\n",
    "\n",
    "- Input: A list of $n$ sentences (with max length $t$).\n",
    "- It is represented by a $n\\times t$ matrix after the tokenization and zero-padding.\n",
    "- It is represented by a $n\\times t \\times v$ tensor ($t$ is the number of unique chars) after the one-hot encoding."
   ]
  },
  {
   "cell_type": "code",
   "execution_count": 11,
   "metadata": {},
   "outputs": [
    {
     "name": "stdout",
     "output_type": "stream",
     "text": [
      "(20000, 14, 28)\n",
      "(20000, 41, 30)\n"
     ]
    }
   ],
   "source": [
    "from keras.utils import to_categorical\n",
    "\n",
    "# one hot encode target sequence\n",
    "def onehot_encode(sequences, max_len, vocab_size):\n",
    "    n = len(sequences)\n",
    "    data = numpy.zeros((n, max_len, vocab_size))\n",
    "    for i in range(n):\n",
    "        data[i, :, :] = to_categorical(sequences[i], num_classes=vocab_size)\n",
    "    return data\n",
    "\n",
    "encoder_input_data = onehot_encode(encoder_input_seq, max_encoder_seq_length, num_encoder_tokens)\n",
    "decoder_input_data = onehot_encode(decoder_input_seq, max_decoder_seq_length, num_decoder_tokens)\n",
    "\n",
    "decoder_target_seq = numpy.zeros(decoder_input_seq.shape)\n",
    "decoder_target_seq[:, 0:-1] = decoder_input_seq[:, 1:]\n",
    "decoder_target_data = onehot_encode(decoder_target_seq, \n",
    "                                    max_decoder_seq_length, \n",
    "                                    num_decoder_tokens)\n",
    "\n",
    "print(encoder_input_data.shape)\n",
    "print(decoder_input_data.shape)"
   ]
  },
  {
   "cell_type": "markdown",
   "metadata": {},
   "source": [
    "## 3. Build the networks (for training)\n",
    "\n",
    "- Build encoder, decoder, and connect the two modules to get \"model\". \n",
    "\n",
    "- Fit the model on the bilingual data to train the parameters in the encoder and decoder."
   ]
  },
  {
   "cell_type": "markdown",
   "metadata": {},
   "source": [
    "### 3.1. Encoder network\n",
    "\n",
    "- Input:  one-hot encode of the input language\n",
    "\n",
    "- Return: \n",
    "\n",
    "    -- output (all the hidden states   $h_1, \\cdots , h_t$) are always discarded\n",
    "    \n",
    "    -- the final hidden state  $h_t$\n",
    "    \n",
    "    -- the final conveyor belt $c_t$"
   ]
  },
  {
   "cell_type": "code",
   "execution_count": 12,
   "metadata": {},
   "outputs": [],
   "source": [
    "from keras.layers import Input, LSTM, Bidirectional, Concatenate\n",
    "from keras.models import Model\n",
    "\n",
    "latent_dim = 256\n",
    "encoder_dim = 128\n",
    "\n",
    "# inputs of the encoder network\n",
    "encoder_inputs = Input(shape=(None, num_encoder_tokens), \n",
    "                       name='encoder_inputs')\n",
    "\n",
    "# set the LSTM layer\n",
    "encoder_bilstm_1 = Bidirectional(LSTM(encoder_dim, return_state=True, \n",
    "                                  dropout=0.5, name='encoder_lstm_1'))\n",
    "_, forward_h_1, forward_c_1, backward_h_1, backward_c_1 = encoder_bilstm_1(encoder_inputs)\n",
    "\n",
    "# encoder_bilstm_2 = Bidirectional(LSTM(encoder_dim, return_state=True, \n",
    "#                                   dropout=0.5, name='encoder_lstm_2'))\n",
    "# _, forward_h_2, forward_c_2, backward_h_2, backward_c_2 = encoder_bilstm_2(encoder_inputs)\n",
    "\n",
    "state_h_1 = Concatenate()([forward_h_1, backward_h_1])\n",
    "# state_h_2 = Concatenate()([forward_h_2, backward_h_2])\n",
    "state_c_1 = Concatenate()([forward_c_1, backward_c_1])\n",
    "# state_c_2 = Concatenate()([forward_c_2, backward_c_2])\n",
    "\n",
    "# build the encoder network model\n",
    "encoder_model = Model(inputs=encoder_inputs, \n",
    "                      outputs=[state_h_1, state_c_1],# state_h_2, state_c_2],\n",
    "                      name='encoder')"
   ]
  },
  {
   "cell_type": "markdown",
   "metadata": {},
   "source": [
    "Print a summary and save the encoder network structure to \"./encoder.pdf\""
   ]
  },
  {
   "cell_type": "code",
   "execution_count": 13,
   "metadata": {},
   "outputs": [
    {
     "name": "stdout",
     "output_type": "stream",
     "text": [
      "Model: \"encoder\"\n",
      "__________________________________________________________________________________________________\n",
      "Layer (type)                    Output Shape         Param #     Connected to                     \n",
      "==================================================================================================\n",
      "encoder_inputs (InputLayer)     [(None, None, 28)]   0                                            \n",
      "__________________________________________________________________________________________________\n",
      "bidirectional (Bidirectional)   [(None, 256), (None, 160768      encoder_inputs[0][0]             \n",
      "__________________________________________________________________________________________________\n",
      "concatenate (Concatenate)       (None, 256)          0           bidirectional[0][1]              \n",
      "                                                                 bidirectional[0][3]              \n",
      "__________________________________________________________________________________________________\n",
      "concatenate_1 (Concatenate)     (None, 256)          0           bidirectional[0][2]              \n",
      "                                                                 bidirectional[0][4]              \n",
      "==================================================================================================\n",
      "Total params: 160,768\n",
      "Trainable params: 160,768\n",
      "Non-trainable params: 0\n",
      "__________________________________________________________________________________________________\n"
     ]
    }
   ],
   "source": [
    "from IPython.display import SVG\n",
    "from keras.utils.vis_utils import model_to_dot, plot_model\n",
    "\n",
    "SVG(model_to_dot(encoder_model, show_shapes=False).create(prog='dot', format='svg'))\n",
    "\n",
    "plot_model(\n",
    "    model=encoder_model, show_shapes=False,\n",
    "    to_file='encoder.pdf'\n",
    ")\n",
    "\n",
    "encoder_model.summary()"
   ]
  },
  {
   "cell_type": "markdown",
   "metadata": {},
   "source": [
    "### 3.2. Decoder network\n",
    "\n",
    "- Inputs:  \n",
    "\n",
    "    -- one-hot encode of the target language\n",
    "    \n",
    "    -- The initial hidden state $h_t$ \n",
    "    \n",
    "    -- The initial conveyor belt $c_t$ \n",
    "\n",
    "- Return: \n",
    "\n",
    "    -- output (all the hidden states) $h_1, \\cdots , h_t$\n",
    "\n",
    "    -- the final hidden state  $h_t$ (discarded in the training and used in the prediction)\n",
    "    \n",
    "    -- the final conveyor belt $c_t$ (discarded in the training and used in the prediction)"
   ]
  },
  {
   "cell_type": "code",
   "execution_count": 14,
   "metadata": {},
   "outputs": [],
   "source": [
    "from keras.layers import Input, LSTM, Dense\n",
    "from keras.models import Model\n",
    "\n",
    "# inputs of the decoder network\n",
    "decoder_input_h_1 = Input(shape=(latent_dim), name='decoder_input_h_1')\n",
    "decoder_input_c_1 = Input(shape=(latent_dim), name='decoder_input_c_1')\n",
    "# decoder_input_h_2 = Input(shape=(latent_dim), name='decoder_input_h_2')\n",
    "# decoder_input_c_2 = Input(shape=(latent_dim), name='decoder_input_c_2')\n",
    "\n",
    "decoder_input_x = Input(shape=(None, num_decoder_tokens), name='decoder_input_x')\n",
    "\n",
    "# # set the LSTM layer\n",
    "decoder_lstm_1 = LSTM(latent_dim, return_sequences=True, \n",
    "                    return_state=True, dropout=0.5, name='decoder_lstm_1')\n",
    "decoder_lstm_outputs_1, state_h_1, state_c_1 = decoder_lstm_1(decoder_input_x, \n",
    "                                                      initial_state=[decoder_input_h_1, decoder_input_c_1])\n",
    "\n",
    "# decoder_lstm_2 = LSTM(latent_dim, return_sequences=True, \n",
    "#                     return_state=True, dropout=0.5, name='decoder_lstm_2')\n",
    "# decoder_lstm_outputs_2, state_h_2, state_c_2 = decoder_lstm_2(decoder_input_x, \n",
    "#                                                       initial_state=[decoder_input_h_2, decoder_input_c_2])\n",
    "\n",
    "# decoder_lstm_outputs = Concatenate()([decoder_lstm_outputs_1, decoder_lstm_outputs_2])\n",
    "\n",
    "# # set the dense layer\n",
    "decoder_dense = Dense(num_decoder_tokens, activation='softmax', name='decoder_dense')\n",
    "decoder_outputs = decoder_dense(decoder_lstm_outputs_1)\n",
    "\n",
    "# build the decoder network model\n",
    "decoder_model = Model(inputs=[decoder_input_x, decoder_input_h_1, decoder_input_c_1], # , decoder_input_h_2, decoder_input_c_2],\n",
    "                      outputs=[decoder_outputs, state_h_1, state_c_1], # state_h_2, state_c_2],\n",
    "                      name='decoder')"
   ]
  },
  {
   "cell_type": "markdown",
   "metadata": {},
   "source": [
    "Print a summary and save the encoder network structure to \"./decoder.pdf\""
   ]
  },
  {
   "cell_type": "code",
   "execution_count": 15,
   "metadata": {},
   "outputs": [
    {
     "name": "stdout",
     "output_type": "stream",
     "text": [
      "Model: \"decoder\"\n",
      "__________________________________________________________________________________________________\n",
      "Layer (type)                    Output Shape         Param #     Connected to                     \n",
      "==================================================================================================\n",
      "decoder_input_x (InputLayer)    [(None, None, 30)]   0                                            \n",
      "__________________________________________________________________________________________________\n",
      "decoder_input_h_1 (InputLayer)  [(None, 256)]        0                                            \n",
      "__________________________________________________________________________________________________\n",
      "decoder_input_c_1 (InputLayer)  [(None, 256)]        0                                            \n",
      "__________________________________________________________________________________________________\n",
      "decoder_lstm_1 (LSTM)           [(None, None, 256),  293888      decoder_input_x[0][0]            \n",
      "                                                                 decoder_input_h_1[0][0]          \n",
      "                                                                 decoder_input_c_1[0][0]          \n",
      "__________________________________________________________________________________________________\n",
      "decoder_dense (Dense)           (None, None, 30)     7710        decoder_lstm_1[0][0]             \n",
      "==================================================================================================\n",
      "Total params: 301,598\n",
      "Trainable params: 301,598\n",
      "Non-trainable params: 0\n",
      "__________________________________________________________________________________________________\n"
     ]
    }
   ],
   "source": [
    "from IPython.display import SVG\n",
    "from keras.utils.vis_utils import model_to_dot, plot_model\n",
    "\n",
    "SVG(model_to_dot(decoder_model, show_shapes=False).create(prog='dot', format='svg'))\n",
    "\n",
    "plot_model(\n",
    "    model=decoder_model, show_shapes=False,\n",
    "    to_file='decoder.pdf'\n",
    ")\n",
    "\n",
    "decoder_model.summary()"
   ]
  },
  {
   "cell_type": "markdown",
   "metadata": {},
   "source": [
    "### 3.3. Connect the encoder and decoder"
   ]
  },
  {
   "cell_type": "code",
   "execution_count": 16,
   "metadata": {},
   "outputs": [],
   "source": [
    "# input layers\n",
    "encoder_input_x = Input(shape=(None, num_encoder_tokens), name='encoder_input_x')\n",
    "decoder_input_x = Input(shape=(None, num_decoder_tokens), name='decoder_input_x')\n",
    "\n",
    "# connect encoder to decoder\n",
    "encoder_final_states = encoder_model([encoder_input_x])\n",
    "decoder_lstm_output_1, _, _ = decoder_lstm_1(decoder_input_x, initial_state=encoder_final_states[0:2])\n",
    "# decoder_lstm_output_2, _, _ = decoder_lstm_2(decoder_input_x, initial_state=encoder_final_states[2:4])\n",
    "\n",
    "# decoder_pred = decoder_dense(Concatenate()([decoder_lstm_output_1, decoder_lstm_output_2]))\n",
    "decoder_pred = decoder_dense(decoder_lstm_output_1)\n",
    "\n",
    "model = Model(inputs=[encoder_input_x, decoder_input_x], \n",
    "              outputs=decoder_pred, \n",
    "              name='model_training')"
   ]
  },
  {
   "cell_type": "code",
   "execution_count": 19,
   "metadata": {},
   "outputs": [
    {
     "name": "stdout",
     "output_type": "stream",
     "text": [
      "KerasTensor(type_spec=TensorSpec(shape=(None, 256), dtype=tf.float32, name=None), name='decoder_lstm_1/PartitionedCall:2', description=\"created by layer 'decoder_lstm_1'\")\n",
      "KerasTensor(type_spec=TensorSpec(shape=(None, 256), dtype=tf.float32, name='decoder_input_h_1'), name='decoder_input_h_1', description=\"created by layer 'decoder_input_h_1'\")\n"
     ]
    }
   ],
   "source": [
    "print(state_h_1)\n",
    "print(decoder_input_h_1)"
   ]
  },
  {
   "cell_type": "code",
   "execution_count": 20,
   "metadata": {},
   "outputs": [
    {
     "name": "stdout",
     "output_type": "stream",
     "text": [
      "Model: \"model_training\"\n",
      "__________________________________________________________________________________________________\n",
      "Layer (type)                    Output Shape         Param #     Connected to                     \n",
      "==================================================================================================\n",
      "encoder_input_x (InputLayer)    [(None, None, 28)]   0                                            \n",
      "__________________________________________________________________________________________________\n",
      "decoder_input_x (InputLayer)    [(None, None, 30)]   0                                            \n",
      "__________________________________________________________________________________________________\n",
      "encoder (Functional)            [(None, 256), (None, 160768      encoder_input_x[0][0]            \n",
      "__________________________________________________________________________________________________\n",
      "decoder_lstm_1 (LSTM)           [(None, None, 256),  293888      decoder_input_x[0][0]            \n",
      "                                                                 encoder[0][0]                    \n",
      "                                                                 encoder[0][1]                    \n",
      "__________________________________________________________________________________________________\n",
      "decoder_dense (Dense)           (None, None, 30)     7710        decoder_lstm_1[1][0]             \n",
      "==================================================================================================\n",
      "Total params: 462,366\n",
      "Trainable params: 462,366\n",
      "Non-trainable params: 0\n",
      "__________________________________________________________________________________________________\n"
     ]
    }
   ],
   "source": [
    "from IPython.display import SVG\n",
    "from keras.utils.vis_utils import model_to_dot, plot_model\n",
    "\n",
    "SVG(model_to_dot(model, show_shapes=False).create(prog='dot', format='svg'))\n",
    "\n",
    "plot_model(\n",
    "    model=model, show_shapes=False,\n",
    "    to_file='model_training.pdf'\n",
    ")\n",
    "\n",
    "model.summary()"
   ]
  },
  {
   "cell_type": "markdown",
   "metadata": {},
   "source": [
    "### 3.5. Fit the model on the bilingual dataset\n",
    "\n",
    "- encoder_input_data: one-hot encode of the input language\n",
    "\n",
    "- decoder_input_data: one-hot encode of the input language\n",
    "\n",
    "- decoder_target_data: labels (left shift of decoder_input_data)\n",
    "\n",
    "- tune the hyper-parameters\n",
    "\n",
    "- stop when the validation loss stop decreasing."
   ]
  },
  {
   "cell_type": "code",
   "execution_count": 21,
   "metadata": {},
   "outputs": [
    {
     "name": "stdout",
     "output_type": "stream",
     "text": [
      "shape of encoder_input_data(20000, 14, 28)\n",
      "shape of decoder_input_data(20000, 41, 30)\n",
      "shape of decoder_target_data(20000, 41, 30)\n"
     ]
    }
   ],
   "source": [
    "print('shape of encoder_input_data' + str(encoder_input_data.shape))\n",
    "print('shape of decoder_input_data' + str(decoder_input_data.shape))\n",
    "print('shape of decoder_target_data' + str(decoder_target_data.shape))"
   ]
  },
  {
   "cell_type": "code",
   "execution_count": 22,
   "metadata": {},
   "outputs": [
    {
     "name": "stdout",
     "output_type": "stream",
     "text": [
      "Epoch 1/50\n",
      "250/250 [==============================] - 27s 92ms/step - loss: 1.3423 - val_loss: 1.0057\n",
      "Epoch 2/50\n",
      "250/250 [==============================] - 22s 88ms/step - loss: 0.9124 - val_loss: 0.8817\n",
      "Epoch 3/50\n",
      "250/250 [==============================] - 22s 88ms/step - loss: 0.8441 - val_loss: 0.8347\n",
      "Epoch 4/50\n",
      "250/250 [==============================] - 22s 89ms/step - loss: 0.8077 - val_loss: 0.7836\n",
      "Epoch 5/50\n",
      "250/250 [==============================] - 24s 95ms/step - loss: 0.7768 - val_loss: 0.7451\n",
      "Epoch 6/50\n",
      "250/250 [==============================] - 35s 139ms/step - loss: 0.7547 - val_loss: 0.7191\n",
      "Epoch 7/50\n",
      "250/250 [==============================] - 38s 152ms/step - loss: 0.7343 - val_loss: 0.6944\n",
      "Epoch 8/50\n",
      "250/250 [==============================] - 27s 108ms/step - loss: 0.7161 - val_loss: 0.6846\n",
      "Epoch 9/50\n",
      "250/250 [==============================] - 26s 103ms/step - loss: 0.7009 - val_loss: 0.6662\n",
      "Epoch 10/50\n",
      "250/250 [==============================] - 27s 107ms/step - loss: 0.6895 - val_loss: 0.6554\n",
      "Epoch 11/50\n",
      "250/250 [==============================] - 22s 86ms/step - loss: 0.6791 - val_loss: 0.6423\n",
      "Epoch 12/50\n",
      "250/250 [==============================] - 23s 92ms/step - loss: 0.6671 - val_loss: 0.6321\n",
      "Epoch 13/50\n",
      "250/250 [==============================] - 24s 95ms/step - loss: 0.6579 - val_loss: 0.6212\n",
      "Epoch 14/50\n",
      "250/250 [==============================] - 23s 91ms/step - loss: 0.6486 - val_loss: 0.6209\n",
      "Epoch 15/50\n",
      "250/250 [==============================] - 27s 106ms/step - loss: 0.6420 - val_loss: 0.6140\n",
      "Epoch 16/50\n",
      "250/250 [==============================] - 36s 145ms/step - loss: 0.6284 - val_loss: 0.6101\n",
      "Epoch 17/50\n",
      "250/250 [==============================] - 30s 119ms/step - loss: 0.6236 - val_loss: 0.6024\n",
      "Epoch 18/50\n",
      "250/250 [==============================] - 24s 97ms/step - loss: 0.6175 - val_loss: 0.5966\n",
      "Epoch 19/50\n",
      "250/250 [==============================] - 22s 88ms/step - loss: 0.6136 - val_loss: 0.5953\n",
      "Epoch 20/50\n",
      "250/250 [==============================] - 28s 113ms/step - loss: 0.6055 - val_loss: 0.5913\n",
      "Epoch 21/50\n",
      "250/250 [==============================] - 26s 104ms/step - loss: 0.5994 - val_loss: 0.5824\n",
      "Epoch 22/50\n",
      "250/250 [==============================] - 21s 85ms/step - loss: 0.5937 - val_loss: 0.5827\n",
      "Epoch 23/50\n",
      "250/250 [==============================] - 21s 83ms/step - loss: 0.5881 - val_loss: 0.5776\n",
      "Epoch 24/50\n",
      "250/250 [==============================] - 21s 82ms/step - loss: 0.5808 - val_loss: 0.5775\n",
      "Epoch 25/50\n",
      "250/250 [==============================] - 21s 83ms/step - loss: 0.5764 - val_loss: 0.5705\n",
      "Epoch 26/50\n",
      "250/250 [==============================] - 21s 83ms/step - loss: 0.5713 - val_loss: 0.5701\n",
      "Epoch 27/50\n",
      "250/250 [==============================] - 21s 82ms/step - loss: 0.5632 - val_loss: 0.5703\n",
      "Epoch 28/50\n",
      "250/250 [==============================] - 21s 83ms/step - loss: 0.5669 - val_loss: 0.5643\n",
      "Epoch 29/50\n",
      "250/250 [==============================] - 21s 82ms/step - loss: 0.5587 - val_loss: 0.5636\n",
      "Epoch 30/50\n",
      "250/250 [==============================] - 20s 82ms/step - loss: 0.5593 - val_loss: 0.5631\n",
      "Epoch 31/50\n",
      "250/250 [==============================] - 21s 82ms/step - loss: 0.5527 - val_loss: 0.5603\n",
      "Epoch 32/50\n",
      "250/250 [==============================] - 21s 82ms/step - loss: 0.5501 - val_loss: 0.5586\n",
      "Epoch 33/50\n",
      "250/250 [==============================] - 21s 82ms/step - loss: 0.5436 - val_loss: 0.5567\n",
      "Epoch 34/50\n",
      "250/250 [==============================] - 21s 84ms/step - loss: 0.5391 - val_loss: 0.5534\n",
      "Epoch 35/50\n",
      "250/250 [==============================] - 20s 82ms/step - loss: 0.5383 - val_loss: 0.5522\n",
      "Epoch 36/50\n",
      "250/250 [==============================] - 21s 85ms/step - loss: 0.5326 - val_loss: 0.5514\n",
      "Epoch 37/50\n",
      "250/250 [==============================] - 20s 82ms/step - loss: 0.5327 - val_loss: 0.5500\n",
      "Epoch 38/50\n",
      "250/250 [==============================] - 20s 82ms/step - loss: 0.5280 - val_loss: 0.5529\n",
      "Epoch 39/50\n",
      "250/250 [==============================] - 21s 83ms/step - loss: 0.5262 - val_loss: 0.5496\n",
      "Epoch 40/50\n",
      "250/250 [==============================] - 20s 81ms/step - loss: 0.5238 - val_loss: 0.5500\n",
      "Epoch 41/50\n",
      "250/250 [==============================] - 20s 81ms/step - loss: 0.5218 - val_loss: 0.5456\n",
      "Epoch 42/50\n",
      "250/250 [==============================] - 20s 82ms/step - loss: 0.5152 - val_loss: 0.5482\n",
      "Epoch 43/50\n",
      "250/250 [==============================] - 20s 82ms/step - loss: 0.5189 - val_loss: 0.5475\n",
      "Epoch 44/50\n",
      "250/250 [==============================] - 20s 81ms/step - loss: 0.5113 - val_loss: 0.5472\n",
      "Epoch 45/50\n",
      "250/250 [==============================] - 20s 81ms/step - loss: 0.5055 - val_loss: 0.5474\n",
      "Epoch 46/50\n",
      "250/250 [==============================] - 20s 81ms/step - loss: 0.5067 - val_loss: 0.5426\n",
      "Epoch 47/50\n",
      "250/250 [==============================] - 20s 81ms/step - loss: 0.5060 - val_loss: 0.5441\n",
      "Epoch 48/50\n",
      "250/250 [==============================] - 20s 82ms/step - loss: 0.5035 - val_loss: 0.5408\n",
      "Epoch 49/50\n",
      "250/250 [==============================] - 20s 82ms/step - loss: 0.5006 - val_loss: 0.5422\n",
      "Epoch 50/50\n",
      "250/250 [==============================] - 20s 81ms/step - loss: 0.5003 - val_loss: 0.5422\n"
     ]
    }
   ],
   "source": [
    "model.compile(optimizer='rmsprop', loss='categorical_crossentropy')\n",
    "\n",
    "model.fit((encoder_input_data, decoder_input_data),  # training data\n",
    "          decoder_target_data,                       # labels (left shift of the target sequences)\n",
    "          batch_size=64, epochs=50, validation_split=0.2)\n",
    "\n",
    "model.save('seq2seq2.h5')"
   ]
  },
  {
   "cell_type": "markdown",
   "metadata": {},
   "source": [
    "## 4. Make predictions\n",
    "\n",
    "\n",
    "### 4.1. Translate English to Italian\n",
    "\n",
    "1. Encoder read a sentence (source language) and output its final states, $h_t$ and $c_t$.\n",
    "2. Take the [star] sign \"\\t\" and the final state $h_t$ and $c_t$ as input and run the decoder.\n",
    "3. Get the new states and predicted probability distribution.\n",
    "4. sample a char from the predicted probability distribution\n",
    "5. take the sampled char and the new states as input and repeat the process (stop if reach the [stop] sign \"\\n\")."
   ]
  },
  {
   "cell_type": "code",
   "execution_count": 23,
   "metadata": {},
   "outputs": [],
   "source": [
    "# Reverse-lookup token index to decode sequences back to something readable.\n",
    "reverse_input_char_index = dict((i, char) for char, i in input_token_index.items())\n",
    "reverse_target_char_index = dict((i, char) for char, i in target_token_index.items())"
   ]
  },
  {
   "cell_type": "code",
   "execution_count": 24,
   "metadata": {},
   "outputs": [],
   "source": [
    "def decode_sequence(input_seq):\n",
    "    states_value = encoder_model.predict(input_seq)\n",
    "\n",
    "    target_seq = numpy.zeros((1, 1, num_decoder_tokens))\n",
    "    target_seq[0, 0, target_token_index['\\t']] = 1.\n",
    "\n",
    "    stop_condition = False\n",
    "    decoded_sentence = ''\n",
    "    while not stop_condition:\n",
    "        output_tokens, h, c = decoder_model.predict([target_seq] + states_value)\n",
    "        \n",
    "        # this line of code is greedy selection\n",
    "        # try to use multinomial sampling instead (with temperature)\n",
    "        sampled_token_index = numpy.argmax(output_tokens[0, -1, :])\n",
    "        \n",
    "        sampled_char = reverse_target_char_index[sampled_token_index]\n",
    "        decoded_sentence += sampled_char\n",
    "\n",
    "        if (sampled_char == '\\n' or\n",
    "           len(decoded_sentence) > max_decoder_seq_length):\n",
    "            stop_condition = True\n",
    "\n",
    "        target_seq = numpy.zeros((1, 1, num_decoder_tokens))\n",
    "        target_seq[0, 0, sampled_token_index] = 1.\n",
    "\n",
    "        states_value = [h, c]\n",
    "\n",
    "    return decoded_sentence\n"
   ]
  },
  {
   "cell_type": "code",
   "execution_count": 39,
   "metadata": {},
   "outputs": [
    {
     "name": "stdout",
     "output_type": "stream",
     "text": [
      "(1, 14, 28)\n",
      "-\n",
      "English:        stay calm\n",
      "Italian (true):  stia calma\n",
      "Italian (pred):  state ferma\n",
      "(1, 14, 28)\n",
      "-\n",
      "English:        stay calm\n",
      "Italian (true):  state calmi\n",
      "Italian (pred):  state ferma\n",
      "(1, 14, 28)\n",
      "-\n",
      "English:        stay calm\n",
      "Italian (true):  state calme\n",
      "Italian (pred):  state ferma\n",
      "(1, 14, 28)\n",
      "-\n",
      "English:        stay cool\n",
      "Italian (true):  mantieni la calma\n",
      "Italian (pred):  state concentrata\n",
      "(1, 14, 28)\n",
      "-\n",
      "English:        stay cool\n",
      "Italian (true):  mantenete la calma\n",
      "Italian (pred):  state concentrata\n",
      "(1, 14, 28)\n",
      "-\n",
      "English:        stay down\n",
      "Italian (true):  stai giu\n",
      "Italian (pred):  resta cintonizzata\n",
      "(1, 14, 28)\n",
      "-\n",
      "English:        stay down\n",
      "Italian (true):  state giu\n",
      "Italian (pred):  resta cintonizzata\n",
      "(1, 14, 28)\n",
      "-\n",
      "English:        stay down\n",
      "Italian (true):  stia giu\n",
      "Italian (pred):  resta cintonizzata\n",
      "(1, 14, 28)\n",
      "-\n",
      "English:        stay here\n",
      "Italian (true):  stai qui\n",
      "Italian (pred):  resta li\n",
      "(1, 14, 28)\n",
      "-\n",
      "English:        stay here\n",
      "Italian (true):  state qui\n",
      "Italian (pred):  resta li\n",
      "(1, 14, 28)\n",
      "-\n",
      "English:        stay here\n",
      "Italian (true):  stia qui\n",
      "Italian (pred):  resta li\n",
      "(1, 14, 28)\n",
      "-\n",
      "English:        stay home\n",
      "Italian (true):  state a casa\n",
      "Italian (pred):  state con noi\n",
      "(1, 14, 28)\n",
      "-\n",
      "English:        step back\n",
      "Italian (true):  fai un passo indietro\n",
      "Italian (pred):  state ferma\n",
      "(1, 14, 28)\n",
      "-\n",
      "English:        step back\n",
      "Italian (true):  fate un passo indietro\n",
      "Italian (pred):  state ferma\n",
      "(1, 14, 28)\n",
      "-\n",
      "English:        step back\n",
      "Italian (true):  faccia un passo indietro\n",
      "Italian (pred):  state ferma\n",
      "(1, 14, 28)\n",
      "-\n",
      "English:        stop here\n",
      "Italian (true):  fermati qui\n",
      "Italian (pred):  fermatevi qui\n",
      "(1, 14, 28)\n",
      "-\n",
      "English:        stop here\n",
      "Italian (true):  si fermi qui\n",
      "Italian (pred):  fermatevi qui\n",
      "(1, 14, 28)\n",
      "-\n",
      "English:        stop here\n",
      "Italian (true):  fermatevi qui\n",
      "Italian (pred):  fermatevi qui\n",
      "(1, 14, 28)\n",
      "-\n",
      "English:        stop here\n",
      "Italian (true):  fermati qua\n",
      "Italian (pred):  fermatevi qui\n",
      "(1, 14, 28)\n",
      "-\n",
      "English:        stop here\n",
      "Italian (true):  si fermi qua\n",
      "Italian (pred):  fermatevi qui\n"
     ]
    }
   ],
   "source": [
    "for seq_index in range(2100, 2120):\n",
    "    # Take one sequence (part of the training set)\n",
    "    # for trying out decoding.\n",
    "    input_seq = encoder_input_data[seq_index: seq_index + 1]\n",
    "    print(input_seq.shape)\n",
    "    decoded_sentence = decode_sequence(input_seq)\n",
    "    print('-')\n",
    "    print('English:       ', input_texts[seq_index])\n",
    "    print('Italian (true): ', target_texts[seq_index][1:-1])\n",
    "    print('Italian (pred): ', decoded_sentence[0:-1])\n"
   ]
  },
  {
   "cell_type": "markdown",
   "metadata": {},
   "source": [
    "### 4.2. Translate an English sentence to the target language\n",
    "\n",
    "1. Tokenization\n",
    "2. One-hot encode\n",
    "3. Translate"
   ]
  },
  {
   "cell_type": "code",
   "execution_count": 60,
   "metadata": {},
   "outputs": [
    {
     "name": "stdout",
     "output_type": "stream",
     "text": [
      "source sentence is: I love you\n",
      "translated sentence is: io ho del pisto\n",
      "\n"
     ]
    }
   ],
   "source": [
    "input_sentence = 'I love you'\n",
    "\n",
    "input_sequence = text2sequences(len(input_sentence), [input_sentence])\n",
    "\n",
    "input_x = onehot_encode(input_sequence[0], len(input_sentence), num_encoder_tokens)\n",
    "\n",
    "translated_sentence = decode_sequence(input_x)\n",
    "\n",
    "print('source sentence is: ' + input_sentence)\n",
    "print('translated sentence is: ' + translated_sentence)"
   ]
  },
  {
   "cell_type": "markdown",
   "metadata": {},
   "source": [
    "## 5. Evaluate the translation using BLEU score\n",
    "\n",
    "Reference: \n",
    "- https://machinelearningmastery.com/calculate-bleu-score-for-text-python/\n",
    "- https://en.wikipedia.org/wiki/BLEU\n",
    "\n",
    "\n",
    "**Hint:** \n",
    "\n",
    "- Randomly partition the dataset to training, validation, and test. \n",
    "\n",
    "- Evaluate the BLEU score using the test set. Report the average.\n",
    "\n",
    "- A reasonable BLEU score should be 0.1 ~ 0.5."
   ]
  }
 ],
 "metadata": {
  "kernelspec": {
   "display_name": "Python 3",
   "language": "python",
   "name": "python3"
  },
  "language_info": {
   "codemirror_mode": {
    "name": "ipython",
    "version": 3
   },
   "file_extension": ".py",
   "mimetype": "text/x-python",
   "name": "python",
   "nbconvert_exporter": "python",
   "pygments_lexer": "ipython3",
   "version": "3.8.1"
  }
 },
 "nbformat": 4,
 "nbformat_minor": 2
}
