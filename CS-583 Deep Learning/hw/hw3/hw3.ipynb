{
 "cells": [
  {
   "cell_type": "code",
   "execution_count": 8,
   "id": "freelance-productivity",
   "metadata": {},
   "outputs": [],
   "source": [
    "import numpy as np\n",
    "from PIL import Image\n",
    "\n",
    "# Assuming the image has channels as the last dimension.\n",
    "# filter.shape -> (kernel_size, kernel_size, channels)\n",
    "# image.shape -> (width, height, channels)\n",
    "def convolve(image, filter, padding = (1, 1)):\n",
    "    # For this to work neatly, filter and image should have the same number of channels\n",
    "    # Alternatively, filter could have just 1 channel or 2 dimensions\n",
    "    \n",
    "    if(image.ndim == 2):\n",
    "        image = np.expand_dims(image, axis=-1) # Convert 2D grayscale images to 3D\n",
    "    if(filter.ndim == 2):\n",
    "        filter = np.repeat(np.expand_dims(filter, axis=-1), image.shape[-1], axis=-1) # Same with filters\n",
    "    if(filter.shape[-1] == 1):\n",
    "        filter = np.repeat(filter, image.shape[-1], axis=-1) # Give filter the same channel count as the image\n",
    "    \n",
    "    #print(filter.shape, image.shape)\n",
    "    assert image.shape[-1] == filter.shape[-1]\n",
    "    size_x, size_y = filter.shape[:2]\n",
    "    width, height = image.shape[:2]\n",
    "    \n",
    "    output_array = np.zeros(((width - size_x + 2*padding[0]) + 1, \n",
    "                             (height - size_y + 2*padding[1]) + 1,\n",
    "                             image.shape[-1])) # Convolution Output: [(W−K+2P)/S]+1\n",
    "    \n",
    "    padded_image = np.pad(image, [\n",
    "        (padding[0], padding[0]),\n",
    "        (padding[1], padding[1]),\n",
    "        (0, 0)\n",
    "    ])\n",
    "    \n",
    "    for x in range(padded_image.shape[0] - size_x + 1): # -size_x + 1 is to keep the window within the bounds of the image\n",
    "        for y in range(padded_image.shape[1] - size_y + 1):\n",
    "\n",
    "            # Creates the window with the same size as the filter\n",
    "            window = padded_image[x:x + size_x, y:y + size_y]\n",
    "\n",
    "            # Sums over the product of the filter and the window\n",
    "            output_values = np.sum(filter * window, axis=(0, 1)) \n",
    "\n",
    "            # Places the calculated value into the output_array\n",
    "            output_array[x, y] = output_values\n",
    "            \n",
    "    return output_array"
   ]
  },
  {
   "cell_type": "code",
   "execution_count": 9,
   "id": "level-namibia",
   "metadata": {},
   "outputs": [],
   "source": [
    "filter = np.array([\n",
    "    [1, 4, 6, 4, 1],\n",
    "    [4, 16, 24, 16, 4],\n",
    "    [6, 24, 36, 24, 6],\n",
    "    [4, 16, 24, 16, 4],\n",
    "    [1, 4, 6, 4, 1],\n",
    "], dtype=np.float32)/256 # Box Filter\n",
    "\n",
    "image = Image.open('vd.png')\n",
    "image_arr = np.array(image)/255.0\n",
    "\n",
    "convolved_arr = convolve(image_arr, filter, padding=(1, 1))\n",
    "convolved = Image.fromarray(np.uint8(255 * convolved_arr), 'RGB') # Convolved Image"
   ]
  },
  {
   "cell_type": "code",
   "execution_count": 10,
   "id": "confirmed-fault",
   "metadata": {},
   "outputs": [
    {
     "data": {
      "image/png": "[encoded data removed]",
      "text/plain": [
       "<PIL.Image.Image image mode=RGB size=98x98 at 0x1066BCCA0>"
      ]
     },
     "execution_count": 10,
     "metadata": {},
     "output_type": "execute_result"
    }
   ],
   "source": [
    "convolved"
   ]
  },
  {
   "cell_type": "code",
   "execution_count": 30,
   "id": "mounted-ladder",
   "metadata": {},
   "outputs": [],
   "source": [
    "v1 = np.array([[1,0,0]])\n",
    "v2 = np.array([[0,1,0]])\n",
    "v3 = np.array([[0,0,1]])"
   ]
  },
  {
   "cell_type": "code",
   "execution_count": 31,
   "id": "upset-tunisia",
   "metadata": {},
   "outputs": [],
   "source": [
    "m1 = v1 * v1.T * 10\n",
    "m2 = v2 * v2.T * 5\n",
    "m3 = v3 * v3.T * 1"
   ]
  },
  {
   "cell_type": "code",
   "execution_count": 39,
   "id": "indirect-heath",
   "metadata": {},
   "outputs": [
    {
     "data": {
      "text/plain": [
       "array([[10,  0,  0],\n",
       "       [ 0,  5,  0],\n",
       "       [ 0,  0,  1]])"
      ]
     },
     "execution_count": 39,
     "metadata": {},
     "output_type": "execute_result"
    }
   ],
   "source": [
    "sig = m1 + m2 + m3\n",
    "sig"
   ]
  },
  {
   "cell_type": "code",
   "execution_count": null,
   "id": "precise-burner",
   "metadata": {},
   "outputs": [],
   "source": []
  },
  {
   "cell_type": "code",
   "execution_count": 40,
   "id": "primary-reading",
   "metadata": {},
   "outputs": [
    {
     "data": {
      "text/plain": [
       "array([[0, 0, 0],\n",
       "       [0, 5, 0],\n",
       "       [0, 0, 0]])"
      ]
     },
     "execution_count": 40,
     "metadata": {},
     "output_type": "execute_result"
    }
   ],
   "source": [
    "res = sig * v2\n",
    "res"
   ]
  },
  {
   "cell_type": "code",
   "execution_count": null,
   "id": "peaceful-ancient",
   "metadata": {},
   "outputs": [],
   "source": []
  },
  {
   "cell_type": "code",
   "execution_count": 38,
   "id": "economic-synthesis",
   "metadata": {},
   "outputs": [
    {
     "data": {
      "text/plain": [
       "25.0"
      ]
     },
     "execution_count": 38,
     "metadata": {},
     "output_type": "execute_result"
    }
   ],
   "source": [
    "np.linalg.norm(res, ord=2) ** 2"
   ]
  }
 ],
 "metadata": {
  "kernelspec": {
   "display_name": "583",
   "language": "python",
   "name": "583"
  },
  "language_info": {
   "codemirror_mode": {
    "name": "ipython",
    "version": 3
   },
   "file_extension": ".py",
   "mimetype": "text/x-python",
   "name": "python",
   "nbconvert_exporter": "python",
   "pygments_lexer": "ipython3",
   "version": "3.8.1"
  }
 },
 "nbformat": 4,
 "nbformat_minor": 5
}
