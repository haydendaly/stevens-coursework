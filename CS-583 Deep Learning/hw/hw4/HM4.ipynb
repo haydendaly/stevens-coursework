{
 "cells": [
  {
   "cell_type": "markdown",
   "metadata": {
    "id": "_c76FtRr2QME"
   },
   "source": [
    "# Home 4: Build a CNN for image recognition.\n",
    "\n",
    "### Name: Hayden Daly"
   ]
  },
  {
   "cell_type": "markdown",
   "metadata": {
    "id": "CkWorQAI2MW2"
   },
   "source": [
    "## 0. You will do the following:\n",
    "\n",
    "1. Read, complete, and run the code.\n",
    "\n",
    "2. **Make substantial improvements** to maximize the accurcy.\n",
    "    \n",
    "3. Convert the .IPYNB file to .HTML file.\n",
    "\n",
    "    * The HTML file must contain the code and the output after execution.\n",
    "    \n",
    "    * Missing **the output after execution** will not be graded.\n",
    "    \n",
    "4. Upload this .HTML file to your Google Drive, Dropbox, or Github repo. (If you submit the file to Google Drive or Dropbox, you must make the file \"open-access\". The delay caused by \"deny of access\" may result in late penalty.)\n",
    "\n",
    "4. Submit the link to this .HTML file to Canvas.\n",
    "\n",
    "    * Example: https://github.com/wangshusen/CS583-2020S/blob/master/homework/HM4/HM4.html\n",
    "\n",
    "\n",
    "## Requirements:\n",
    "\n",
    "1. You can use whatever CNN architecture, including VGG, Inception, and ResNet. However, you must build the networks layer by layer. You must NOT import the archetectures from ```keras.applications```.\n",
    "\n",
    "2. Make sure ```BatchNormalization``` is between a ```Conv```/```Dense``` layer and an ```activation``` layer.\n",
    "\n",
    "3. If you want to regularize a ```Conv```/```Dense``` layer, you should place a ```Dropout``` layer **before** the ```Conv```/```Dense``` layer.\n",
    "\n",
    "4. An accuracy above 70% is considered reasonable. An accuracy above 80% is considered good. Without data augmentation, achieving 80% accuracy is difficult.\n",
    "\n",
    "\n",
    "## Google Colab\n",
    "\n",
    "- If you do not have GPU, the training of a CNN can be slow. Google Colab is a good option.\n",
    "\n",
    "- Keep in mind that you must download it as an IPYNB file and then use IPython Notebook to convert it to HTML.\n",
    "\n",
    "- Also keep in mind that the IPYNB and HTML files must contain the outputs. (Otherwise, the instructor will not be able to know the correctness and performance.) Do the followings to keep the outputs.\n",
    "\n",
    "- In Colab, go to ```Runtime``` --> ```Change runtime type``` --> Do NOT check ```Omit code cell output when saving this notebook```. In this way, the downloaded IPYNB file contains the outputs."
   ]
  },
  {
   "cell_type": "code",
   "execution_count": 1,
   "metadata": {
    "colab": {
     "base_uri": "https://localhost:8080/"
    },
    "id": "pJbYXou6chZf",
    "outputId": "6ada05b7-04bb-47f1-f76f-9c4143f07af8"
   },
   "outputs": [
    {
     "name": "stdout",
     "output_type": "stream",
     "text": [
      "Sat Mar 20 18:14:38 2021       \n",
      "+-----------------------------------------------------------------------------+\n",
      "| NVIDIA-SMI 460.56       Driver Version: 460.32.03    CUDA Version: 11.2     |\n",
      "|-------------------------------+----------------------+----------------------+\n",
      "| GPU  Name        Persistence-M| Bus-Id        Disp.A | Volatile Uncorr. ECC |\n",
      "| Fan  Temp  Perf  Pwr:Usage/Cap|         Memory-Usage | GPU-Util  Compute M. |\n",
      "|                               |                      |               MIG M. |\n",
      "|===============================+======================+======================|\n",
      "|   0  Tesla P100-PCIE...  Off  | 00000000:00:04.0 Off |                    0 |\n",
      "| N/A   39C    P0    27W / 250W |      0MiB / 16280MiB |      0%      Default |\n",
      "|                               |                      |                  N/A |\n",
      "+-------------------------------+----------------------+----------------------+\n",
      "                                                                               \n",
      "+-----------------------------------------------------------------------------+\n",
      "| Processes:                                                                  |\n",
      "|  GPU   GI   CI        PID   Type   Process name                  GPU Memory |\n",
      "|        ID   ID                                                   Usage      |\n",
      "|=============================================================================|\n",
      "|  No running processes found                                                 |\n",
      "+-----------------------------------------------------------------------------+\n"
     ]
    }
   ],
   "source": [
    "!nvidia-smi"
   ]
  },
  {
   "cell_type": "markdown",
   "metadata": {
    "id": "qtyNWBDi2bSW"
   },
   "source": [
    "## 1. Data preparation"
   ]
  },
  {
   "cell_type": "markdown",
   "metadata": {
    "id": "1tJ9MEy72dXr"
   },
   "source": [
    "### 1.1. Load data\n"
   ]
  },
  {
   "cell_type": "code",
   "execution_count": 2,
   "metadata": {
    "colab": {
     "base_uri": "https://localhost:8080/"
    },
    "id": "MEx4z-Vy2gKY",
    "outputId": "5defeb4a-b466-4779-b505-6449bbfb10c8"
   },
   "outputs": [
    {
     "name": "stdout",
     "output_type": "stream",
     "text": [
      "Downloading data from https://www.cs.toronto.edu/~kriz/cifar-10-python.tar.gz\n",
      "170500096/170498071 [==============================] - 3s 0us/step\n",
      "shape of x_train: (50000, 32, 32, 3)\n",
      "shape of y_train: (50000, 1)\n",
      "shape of x_test: (10000, 32, 32, 3)\n",
      "shape of y_test: (10000, 1)\n",
      "number of classes: 10\n"
     ]
    }
   ],
   "source": [
    "from keras.datasets import cifar10\n",
    "import numpy\n",
    "\n",
    "(x_train, y_train), (x_test, y_test) = cifar10.load_data()\n",
    "\n",
    "print('shape of x_train: ' + str(x_train.shape))\n",
    "print('shape of y_train: ' + str(y_train.shape))\n",
    "print('shape of x_test: ' + str(x_test.shape))\n",
    "print('shape of y_test: ' + str(y_test.shape))\n",
    "print('number of classes: ' + str(numpy.max(y_train) - numpy.min(y_train) + 1))"
   ]
  },
  {
   "cell_type": "markdown",
   "metadata": {
    "id": "GX7dYnBN2m5M"
   },
   "source": [
    "### 1.2. One-hot encode the labels\n",
    "\n",
    "In the input, a label is a scalar in $\\{0, 1, \\cdots , 9\\}$. One-hot encode transform such a scalar to a $10$-dim vector. E.g., a scalar ```y_train[j]=3``` is transformed to the vector ```y_train_vec[j]=[0, 0, 0, 1, 0, 0, 0, 0, 0, 0]```.\n",
    "\n",
    "1. Define a function ```to_one_hot``` that transforms an $n\\times 1$ array to a $n\\times 10$ matrix.\n",
    "\n",
    "2. Apply the function to ```y_train``` and ```y_test```."
   ]
  },
  {
   "cell_type": "code",
   "execution_count": 3,
   "metadata": {
    "colab": {
     "base_uri": "https://localhost:8080/"
    },
    "id": "3o5NMIpk2oNO",
    "outputId": "31431585-62a8-49e6-e769-024ba51cad80"
   },
   "outputs": [
    {
     "name": "stdout",
     "output_type": "stream",
     "text": [
      "Shape of y_train_vec: (50000, 10)\n",
      "Shape of y_test_vec: (10000, 10)\n",
      "[6]\n",
      "[0. 0. 0. 0. 0. 0. 1. 0. 0. 0.]\n"
     ]
    }
   ],
   "source": [
    "def to_one_hot(y, num_class=10):\n",
    "    l, _ = y.shape\n",
    "    new_y = numpy.zeros((l, num_class))\n",
    "    for i in range(l):\n",
    "        new_y[i][y[i]] = 1\n",
    "    return new_y\n",
    "\n",
    "y_train_vec = to_one_hot(y_train)\n",
    "y_test_vec = to_one_hot(y_test)\n",
    "\n",
    "print('Shape of y_train_vec: ' + str(y_train_vec.shape))\n",
    "print('Shape of y_test_vec: ' + str(y_test_vec.shape))\n",
    "\n",
    "print(y_train[0])\n",
    "print(y_train_vec[0])"
   ]
  },
  {
   "cell_type": "markdown",
   "metadata": {
    "id": "ENyn9xeX2wa8"
   },
   "source": [
    "#### Remark: the outputs should be\n",
    "* Shape of y_train_vec: (50000, 10)\n",
    "* Shape of y_test_vec: (10000, 10)\n",
    "* [6]\n",
    "* [0. 0. 0. 0. 0. 0. 1. 0. 0. 0.]"
   ]
  },
  {
   "cell_type": "markdown",
   "metadata": {
    "id": "oCMpPvWC22P1"
   },
   "source": [
    "### 1.3. Randomly partition the training set to training and validation sets\n",
    "\n",
    "Randomly partition the 50K training samples to 2 sets:\n",
    "* a training set containing 40K samples\n",
    "* a validation set containing 10K samples\n"
   ]
  },
  {
   "cell_type": "code",
   "execution_count": 4,
   "metadata": {
    "colab": {
     "base_uri": "https://localhost:8080/"
    },
    "id": "Ex2Mt4az24NB",
    "outputId": "ddc0126a-b8d0-4501-d4ad-608ee781ccce"
   },
   "outputs": [
    {
     "name": "stdout",
     "output_type": "stream",
     "text": [
      "Shape of x_tr: (40000, 32, 32, 3)\n",
      "Shape of y_tr: (40000, 10)\n",
      "Shape of x_val: (10000, 32, 32, 3)\n",
      "Shape of y_val: (10000, 10)\n"
     ]
    }
   ],
   "source": [
    "rand_indices = numpy.random.permutation(50000)\n",
    "train_indices = rand_indices[0:40000]\n",
    "valid_indices = rand_indices[40000:50000]\n",
    "\n",
    "x_val = x_train[valid_indices, :]\n",
    "y_val = y_train_vec[valid_indices, :]\n",
    "\n",
    "x_tr = x_train[train_indices, :]\n",
    "y_tr = y_train_vec[train_indices, :]\n",
    "\n",
    "print('Shape of x_tr: ' + str(x_tr.shape))\n",
    "print('Shape of y_tr: ' + str(y_tr.shape))\n",
    "print('Shape of x_val: ' + str(x_val.shape))\n",
    "print('Shape of y_val: ' + str(y_val.shape))"
   ]
  },
  {
   "cell_type": "markdown",
   "metadata": {
    "id": "fp7U06eB2_rr"
   },
   "source": [
    "## 2. Build a CNN and tune its hyper-parameters\n",
    "\n",
    "1. Build a convolutional neural network model\n",
    "2. Use the validation data to tune the hyper-parameters (e.g., network structure, and optimization algorithm)\n",
    "    * Do NOT use test data for hyper-parameter tuning!!!\n",
    "3. Try to achieve a validation accuracy as high as possible."
   ]
  },
  {
   "cell_type": "markdown",
   "metadata": {
    "id": "ABXzfK6y3CVV"
   },
   "source": [
    "### Remark: \n",
    "\n",
    "The following CNN is just an example. You are supposed to make **substantial improvements** such as:\n",
    "* Add more layers.\n",
    "* Use regularizations, e.g., dropout.\n",
    "* Use batch normalization."
   ]
  },
  {
   "cell_type": "code",
   "execution_count": 11,
   "metadata": {
    "colab": {
     "base_uri": "https://localhost:8080/"
    },
    "id": "Jednpu-b3AiT",
    "outputId": "995ee80c-b2a7-4930-f2c0-93f32cd0bbcc"
   },
   "outputs": [
    {
     "name": "stdout",
     "output_type": "stream",
     "text": [
      "Model: \"sequential_1\"\n",
      "_________________________________________________________________\n",
      "Layer (type)                 Output Shape              Param #   \n",
      "=================================================================\n",
      "conv2d_4 (Conv2D)            (None, 32, 32, 32)        896       \n",
      "_________________________________________________________________\n",
      "batch_normalization (BatchNo (None, 32, 32, 32)        128       \n",
      "_________________________________________________________________\n",
      "conv2d_5 (Conv2D)            (None, 30, 30, 32)        9248      \n",
      "_________________________________________________________________\n",
      "batch_normalization_1 (Batch (None, 30, 30, 32)        128       \n",
      "_________________________________________________________________\n",
      "max_pooling2d_2 (MaxPooling2 (None, 15, 15, 32)        0         \n",
      "_________________________________________________________________\n",
      "dropout_3 (Dropout)          (None, 15, 15, 32)        0         \n",
      "_________________________________________________________________\n",
      "conv2d_6 (Conv2D)            (None, 15, 15, 64)        18496     \n",
      "_________________________________________________________________\n",
      "batch_normalization_2 (Batch (None, 15, 15, 64)        256       \n",
      "_________________________________________________________________\n",
      "conv2d_7 (Conv2D)            (None, 13, 13, 64)        36928     \n",
      "_________________________________________________________________\n",
      "batch_normalization_3 (Batch (None, 13, 13, 64)        256       \n",
      "_________________________________________________________________\n",
      "max_pooling2d_3 (MaxPooling2 (None, 6, 6, 64)          0         \n",
      "_________________________________________________________________\n",
      "dropout_4 (Dropout)          (None, 6, 6, 64)          0         \n",
      "_________________________________________________________________\n",
      "conv2d_8 (Conv2D)            (None, 6, 6, 128)         73856     \n",
      "_________________________________________________________________\n",
      "batch_normalization_4 (Batch (None, 6, 6, 128)         512       \n",
      "_________________________________________________________________\n",
      "conv2d_9 (Conv2D)            (None, 6, 6, 128)         147584    \n",
      "_________________________________________________________________\n",
      "batch_normalization_5 (Batch (None, 6, 6, 128)         512       \n",
      "_________________________________________________________________\n",
      "max_pooling2d_4 (MaxPooling2 (None, 3, 3, 128)         0         \n",
      "_________________________________________________________________\n",
      "dropout_5 (Dropout)          (None, 3, 3, 128)         0         \n",
      "_________________________________________________________________\n",
      "flatten_1 (Flatten)          (None, 1152)              0         \n",
      "_________________________________________________________________\n",
      "dense_2 (Dense)              (None, 10)                11530     \n",
      "=================================================================\n",
      "Total params: 300,330\n",
      "Trainable params: 299,434\n",
      "Non-trainable params: 896\n",
      "_________________________________________________________________\n"
     ]
    }
   ],
   "source": [
    "from keras.layers import Conv2D, MaxPooling2D, Flatten, Dense, BatchNormalization, Dropout\n",
    "from keras.models import Sequential\n",
    "\n",
    "model = Sequential()\n",
    "\n",
    "model.add(Conv2D(32, (3, 3), activation='relu', padding='same', input_shape=(32, 32, 3)))\n",
    "model.add(BatchNormalization())\n",
    "model.add(Conv2D(32, (3, 3), activation='relu'))\n",
    "model.add(BatchNormalization())\n",
    "model.add(MaxPooling2D())\n",
    "model.add(Dropout(0.2))\n",
    "\n",
    "model.add(Conv2D(64, (3, 3), activation='relu', padding='same'))\n",
    "model.add(BatchNormalization())\n",
    "model.add(Conv2D(64, (3, 3), activation='relu'))\n",
    "model.add(BatchNormalization())\n",
    "model.add(MaxPooling2D())\n",
    "model.add(Dropout(0.3))\n",
    "\n",
    "model.add(Conv2D(128, (3,3), activation='relu', padding='same'))\n",
    "model.add(BatchNormalization())\n",
    "model.add(Conv2D(128, (3,3), activation='relu', padding='same'))\n",
    "model.add(BatchNormalization())\n",
    "model.add(MaxPooling2D())\n",
    "model.add(Dropout(0.4))\n",
    "\n",
    "model.add(Flatten())\n",
    "model.add(Dense(10, activation='softmax'))\n",
    "\n",
    "model.summary()"
   ]
  },
  {
   "cell_type": "code",
   "execution_count": 24,
   "metadata": {
    "id": "VDb9pPE83Ij7"
   },
   "outputs": [],
   "source": [
    "from keras import optimizers\n",
    "\n",
    "learning_rate = 1E-4\n",
    "decay = 1E-6\n",
    "\n",
    "model.compile(loss='categorical_crossentropy',\n",
    "              optimizer=optimizers.RMSprop(lr=learning_rate, decay=decay),\n",
    "              metrics=['acc'])"
   ]
  },
  {
   "cell_type": "code",
   "execution_count": 25,
   "metadata": {
    "colab": {
     "base_uri": "https://localhost:8080/"
    },
    "id": "hABC80no3Kan",
    "outputId": "382ce9d6-6bf6-4db9-a65e-9bf6ac08d9fd"
   },
   "outputs": [
    {
     "name": "stdout",
     "output_type": "stream",
     "text": [
      "Epoch 1/35\n",
      "625/625 [==============================] - 7s 8ms/step - loss: 0.1072 - acc: 0.9627 - val_loss: 0.1640 - val_acc: 0.9428\n",
      "Epoch 2/35\n",
      "625/625 [==============================] - 5s 8ms/step - loss: 0.1065 - acc: 0.9621 - val_loss: 0.1689 - val_acc: 0.9427\n",
      "Epoch 3/35\n",
      "625/625 [==============================] - 5s 8ms/step - loss: 0.1038 - acc: 0.9638 - val_loss: 0.1757 - val_acc: 0.9375\n",
      "Epoch 4/35\n",
      "625/625 [==============================] - 5s 8ms/step - loss: 0.1048 - acc: 0.9626 - val_loss: 0.1812 - val_acc: 0.9390\n",
      "Epoch 5/35\n",
      "625/625 [==============================] - 5s 8ms/step - loss: 0.1022 - acc: 0.9649 - val_loss: 0.1800 - val_acc: 0.9383\n",
      "Epoch 6/35\n",
      "625/625 [==============================] - 5s 8ms/step - loss: 0.1018 - acc: 0.9621 - val_loss: 0.1833 - val_acc: 0.9380\n",
      "Epoch 7/35\n",
      "625/625 [==============================] - 5s 8ms/step - loss: 0.1007 - acc: 0.9630 - val_loss: 0.1832 - val_acc: 0.9411\n",
      "Epoch 8/35\n",
      "625/625 [==============================] - 5s 8ms/step - loss: 0.1034 - acc: 0.9627 - val_loss: 0.1831 - val_acc: 0.9350\n",
      "Epoch 9/35\n",
      "625/625 [==============================] - 5s 8ms/step - loss: 0.0972 - acc: 0.9654 - val_loss: 0.2072 - val_acc: 0.9301\n",
      "Epoch 10/35\n",
      "625/625 [==============================] - 5s 8ms/step - loss: 0.1040 - acc: 0.9632 - val_loss: 0.1988 - val_acc: 0.9348\n",
      "Epoch 11/35\n",
      "625/625 [==============================] - 5s 8ms/step - loss: 0.0994 - acc: 0.9643 - val_loss: 0.2073 - val_acc: 0.9314\n",
      "Epoch 12/35\n",
      "625/625 [==============================] - 5s 8ms/step - loss: 0.1052 - acc: 0.9625 - val_loss: 0.1922 - val_acc: 0.9365\n",
      "Epoch 13/35\n",
      "625/625 [==============================] - 5s 8ms/step - loss: 0.0951 - acc: 0.9637 - val_loss: 0.1986 - val_acc: 0.9364\n",
      "Epoch 14/35\n",
      "625/625 [==============================] - 5s 8ms/step - loss: 0.1014 - acc: 0.9627 - val_loss: 0.2034 - val_acc: 0.9310\n",
      "Epoch 15/35\n",
      "625/625 [==============================] - 5s 8ms/step - loss: 0.1002 - acc: 0.9635 - val_loss: 0.2356 - val_acc: 0.9233\n",
      "Epoch 16/35\n",
      "625/625 [==============================] - 5s 8ms/step - loss: 0.0964 - acc: 0.9654 - val_loss: 0.1976 - val_acc: 0.9362\n",
      "Epoch 17/35\n",
      "625/625 [==============================] - 5s 8ms/step - loss: 0.1009 - acc: 0.9645 - val_loss: 0.2206 - val_acc: 0.9288\n",
      "Epoch 18/35\n",
      "625/625 [==============================] - 5s 8ms/step - loss: 0.1036 - acc: 0.9633 - val_loss: 0.2137 - val_acc: 0.9293\n",
      "Epoch 19/35\n",
      "625/625 [==============================] - 5s 8ms/step - loss: 0.1005 - acc: 0.9641 - val_loss: 0.2053 - val_acc: 0.9323\n",
      "Epoch 20/35\n",
      "625/625 [==============================] - 5s 8ms/step - loss: 0.1035 - acc: 0.9626 - val_loss: 0.2131 - val_acc: 0.9286\n",
      "Epoch 21/35\n",
      "625/625 [==============================] - 5s 8ms/step - loss: 0.1057 - acc: 0.9631 - val_loss: 0.2486 - val_acc: 0.9194\n",
      "Epoch 22/35\n",
      "625/625 [==============================] - 5s 8ms/step - loss: 0.0974 - acc: 0.9652 - val_loss: 0.2290 - val_acc: 0.9252\n",
      "Epoch 23/35\n",
      "625/625 [==============================] - 5s 8ms/step - loss: 0.1002 - acc: 0.9634 - val_loss: 0.2531 - val_acc: 0.9190\n",
      "Epoch 24/35\n",
      "625/625 [==============================] - 5s 8ms/step - loss: 0.0955 - acc: 0.9661 - val_loss: 0.2277 - val_acc: 0.9256\n",
      "Epoch 25/35\n",
      "625/625 [==============================] - 5s 8ms/step - loss: 0.0951 - acc: 0.9666 - val_loss: 0.2320 - val_acc: 0.9252\n",
      "Epoch 26/35\n",
      "625/625 [==============================] - 5s 8ms/step - loss: 0.1007 - acc: 0.9635 - val_loss: 0.2288 - val_acc: 0.9268\n",
      "Epoch 27/35\n",
      "625/625 [==============================] - 5s 8ms/step - loss: 0.1022 - acc: 0.9650 - val_loss: 0.2668 - val_acc: 0.9192\n",
      "Epoch 28/35\n",
      "625/625 [==============================] - 5s 8ms/step - loss: 0.0979 - acc: 0.9668 - val_loss: 0.2392 - val_acc: 0.9231\n",
      "Epoch 29/35\n",
      "625/625 [==============================] - 5s 8ms/step - loss: 0.0976 - acc: 0.9642 - val_loss: 0.2356 - val_acc: 0.9229\n",
      "Epoch 30/35\n",
      "625/625 [==============================] - 5s 8ms/step - loss: 0.0901 - acc: 0.9678 - val_loss: 0.2405 - val_acc: 0.9215\n",
      "Epoch 31/35\n",
      "625/625 [==============================] - 5s 8ms/step - loss: 0.1020 - acc: 0.9637 - val_loss: 0.2415 - val_acc: 0.9220\n",
      "Epoch 32/35\n",
      "625/625 [==============================] - 5s 8ms/step - loss: 0.0978 - acc: 0.9650 - val_loss: 0.2565 - val_acc: 0.9142\n",
      "Epoch 33/35\n",
      "625/625 [==============================] - 5s 8ms/step - loss: 0.0945 - acc: 0.9663 - val_loss: 0.2505 - val_acc: 0.9174\n",
      "Epoch 34/35\n",
      "625/625 [==============================] - 5s 8ms/step - loss: 0.0910 - acc: 0.9668 - val_loss: 0.2669 - val_acc: 0.9162\n",
      "Epoch 35/35\n",
      "625/625 [==============================] - 5s 8ms/step - loss: 0.0898 - acc: 0.9671 - val_loss: 0.2567 - val_acc: 0.9172\n"
     ]
    }
   ],
   "source": [
    "history = model.fit(x_tr, y_tr, batch_size=64, epochs=35, validation_data=(x_val, y_val))"
   ]
  },
  {
   "cell_type": "code",
   "execution_count": 26,
   "metadata": {
    "colab": {
     "base_uri": "https://localhost:8080/",
     "height": 279
    },
    "id": "h_2fGfoe3OoB",
    "outputId": "c4a42c2a-09e0-4804-8870-447408c6d51e"
   },
   "outputs": [
    {
     "data": {
      "image/png": "[encoded data removed]",
      "text/plain": [
       "<Figure size 432x288 with 1 Axes>"
      ]
     },
     "metadata": {
      "needs_background": "light",
      "tags": []
     },
     "output_type": "display_data"
    }
   ],
   "source": [
    "import matplotlib.pyplot as plt\n",
    "%matplotlib inline\n",
    "\n",
    "acc = history.history['acc']\n",
    "val_acc = history.history['val_acc']\n",
    "\n",
    "epochs = range(len(acc))\n",
    "\n",
    "plt.plot(epochs, acc, 'bo', label='Training acc')\n",
    "plt.plot(epochs, val_acc, 'r', label='Validation acc')\n",
    "plt.xlabel('Epochs')\n",
    "plt.ylabel('Accuracy')\n",
    "plt.legend()\n",
    "plt.show()"
   ]
  },
  {
   "cell_type": "markdown",
   "metadata": {
    "id": "nTbLANpE3WD3"
   },
   "source": [
    "## 3. Train (again) and evaluate the model\n",
    "\n",
    "- To this end, you have found the \"best\" hyper-parameters. \n",
    "- Now, fix the hyper-parameters and train the network on the entire training set (all the 50K training samples)\n",
    "- Evaluate your model on the test set."
   ]
  },
  {
   "cell_type": "markdown",
   "metadata": {
    "id": "8XlksOth3avz"
   },
   "source": [
    "### 3.1. Train the model on the entire training set\n",
    "\n",
    "Why? Previously, you used 40K samples for training; you wasted 10K samples for the sake of hyper-parameter tuning. Now you already know the hyper-parameters, so why not using all the 50K samples for training?\n"
   ]
  },
  {
   "cell_type": "code",
   "execution_count": 27,
   "metadata": {
    "id": "uFdR-Hx73cqn"
   },
   "outputs": [],
   "source": [
    "from keras import optimizers\n",
    "\n",
    "learning_rate = 1E-4\n",
    "decay = 1E-6\n",
    "\n",
    "model.compile(loss='categorical_crossentropy',\n",
    "              optimizer=optimizers.RMSprop(lr=learning_rate, decay=decay),\n",
    "              metrics=['acc'])"
   ]
  },
  {
   "cell_type": "code",
   "execution_count": 28,
   "metadata": {
    "colab": {
     "base_uri": "https://localhost:8080/"
    },
    "id": "Tc_qILCm3fiU",
    "outputId": "eb4aa893-a750-4679-8282-b3528f002a8d"
   },
   "outputs": [
    {
     "name": "stdout",
     "output_type": "stream",
     "text": [
      "Epoch 1/35\n",
      "782/782 [==============================] - 8s 8ms/step - loss: 0.1933 - acc: 0.9411\n",
      "Epoch 2/35\n",
      "782/782 [==============================] - 6s 8ms/step - loss: 0.1765 - acc: 0.9437\n",
      "Epoch 3/35\n",
      "782/782 [==============================] - 6s 8ms/step - loss: 0.1678 - acc: 0.9454\n",
      "Epoch 4/35\n",
      "782/782 [==============================] - 6s 8ms/step - loss: 0.1565 - acc: 0.9485\n",
      "Epoch 5/35\n",
      "782/782 [==============================] - 6s 8ms/step - loss: 0.1578 - acc: 0.9471\n",
      "Epoch 6/35\n",
      "782/782 [==============================] - 6s 8ms/step - loss: 0.1539 - acc: 0.9477\n",
      "Epoch 7/35\n",
      "782/782 [==============================] - 6s 8ms/step - loss: 0.1547 - acc: 0.9480\n",
      "Epoch 8/35\n",
      "782/782 [==============================] - 6s 8ms/step - loss: 0.1457 - acc: 0.9512\n",
      "Epoch 9/35\n",
      "782/782 [==============================] - 6s 8ms/step - loss: 0.1457 - acc: 0.9489\n",
      "Epoch 10/35\n",
      "782/782 [==============================] - 6s 8ms/step - loss: 0.1403 - acc: 0.9522\n",
      "Epoch 11/35\n",
      "782/782 [==============================] - 6s 8ms/step - loss: 0.1361 - acc: 0.9527\n",
      "Epoch 12/35\n",
      "782/782 [==============================] - 6s 8ms/step - loss: 0.1386 - acc: 0.9531\n",
      "Epoch 13/35\n",
      "782/782 [==============================] - 6s 7ms/step - loss: 0.1373 - acc: 0.9516\n",
      "Epoch 14/35\n",
      "782/782 [==============================] - 6s 7ms/step - loss: 0.1411 - acc: 0.9522\n",
      "Epoch 15/35\n",
      "782/782 [==============================] - 6s 7ms/step - loss: 0.1375 - acc: 0.9519\n",
      "Epoch 16/35\n",
      "782/782 [==============================] - 6s 7ms/step - loss: 0.1327 - acc: 0.9533\n",
      "Epoch 17/35\n",
      "782/782 [==============================] - 6s 7ms/step - loss: 0.1318 - acc: 0.9550\n",
      "Epoch 18/35\n",
      "782/782 [==============================] - 6s 7ms/step - loss: 0.1334 - acc: 0.9528\n",
      "Epoch 19/35\n",
      "782/782 [==============================] - 6s 8ms/step - loss: 0.1317 - acc: 0.9549\n",
      "Epoch 20/35\n",
      "782/782 [==============================] - 6s 7ms/step - loss: 0.1306 - acc: 0.9543\n",
      "Epoch 21/35\n",
      "782/782 [==============================] - 6s 8ms/step - loss: 0.1338 - acc: 0.9525\n",
      "Epoch 22/35\n",
      "782/782 [==============================] - 6s 8ms/step - loss: 0.1252 - acc: 0.9557\n",
      "Epoch 23/35\n",
      "782/782 [==============================] - 6s 8ms/step - loss: 0.1295 - acc: 0.9544\n",
      "Epoch 24/35\n",
      "782/782 [==============================] - 6s 8ms/step - loss: 0.1300 - acc: 0.9546\n",
      "Epoch 25/35\n",
      "782/782 [==============================] - 6s 8ms/step - loss: 0.1233 - acc: 0.9566\n",
      "Epoch 26/35\n",
      "782/782 [==============================] - 6s 8ms/step - loss: 0.1289 - acc: 0.9545\n",
      "Epoch 27/35\n",
      "782/782 [==============================] - 6s 8ms/step - loss: 0.1252 - acc: 0.9556\n",
      "Epoch 28/35\n",
      "782/782 [==============================] - 6s 8ms/step - loss: 0.1158 - acc: 0.9592\n",
      "Epoch 29/35\n",
      "782/782 [==============================] - 6s 8ms/step - loss: 0.1217 - acc: 0.9566\n",
      "Epoch 30/35\n",
      "782/782 [==============================] - 6s 8ms/step - loss: 0.1221 - acc: 0.9586\n",
      "Epoch 31/35\n",
      "782/782 [==============================] - 6s 8ms/step - loss: 0.1224 - acc: 0.9566\n",
      "Epoch 32/35\n",
      "782/782 [==============================] - 6s 8ms/step - loss: 0.1182 - acc: 0.9571\n",
      "Epoch 33/35\n",
      "782/782 [==============================] - 6s 8ms/step - loss: 0.1200 - acc: 0.9582\n",
      "Epoch 34/35\n",
      "782/782 [==============================] - 6s 8ms/step - loss: 0.1221 - acc: 0.9569\n",
      "Epoch 35/35\n",
      "782/782 [==============================] - 6s 8ms/step - loss: 0.1190 - acc: 0.9582\n"
     ]
    }
   ],
   "source": [
    "# <Train your model on the entire training set (50K samples)>\n",
    "# <Use (x_train, y_train_vec) instead of (x_tr, y_tr)>\n",
    "# <Do NOT use the validation_data option (because now you do not have validation data)>\n",
    "history = model.fit(x_train, y_train_vec, batch_size=64, epochs=35)"
   ]
  },
  {
   "cell_type": "markdown",
   "metadata": {
    "id": "2n9VMtxl3lAf"
   },
   "source": [
    "### 3.2. Evaluate the model on the test set\n",
    "\n",
    "Do NOT used the test set until now. Make sure that your model parameters and hyper-parameters are independent of the test set."
   ]
  },
  {
   "cell_type": "code",
   "execution_count": 29,
   "metadata": {
    "colab": {
     "base_uri": "https://localhost:8080/"
    },
    "id": "ybxbwEtO-N3_",
    "outputId": "a1678de9-04b9-443d-fca9-36e1ed598570"
   },
   "outputs": [
    {
     "name": "stdout",
     "output_type": "stream",
     "text": [
      "313/313 [==============================] - 1s 3ms/step - loss: 0.5992 - acc: 0.8488\n",
      "loss = 0.5992285013198853\n",
      "accuracy = 0.848800003528595\n"
     ]
    }
   ],
   "source": [
    "loss_and_acc = model.evaluate(x_test, y_test_vec)\n",
    "print('loss = ' + str(loss_and_acc[0]))\n",
    "print('accuracy = ' + str(loss_and_acc[1]))"
   ]
  }
 ],
 "metadata": {
  "accelerator": "GPU",
  "colab": {
   "collapsed_sections": [],
   "machine_shape": "hm",
   "name": "HM4.ipynb",
   "provenance": []
  },
  "kernelspec": {
   "display_name": "Python 3",
   "language": "python",
   "name": "python3"
  },
  "language_info": {
   "codemirror_mode": {
    "name": "ipython",
    "version": 3
   },
   "file_extension": ".py",
   "mimetype": "text/x-python",
   "name": "python",
   "nbconvert_exporter": "python",
   "pygments_lexer": "ipython3",
   "version": "3.8.1"
  }
 },
 "nbformat": 4,
 "nbformat_minor": 1
}
