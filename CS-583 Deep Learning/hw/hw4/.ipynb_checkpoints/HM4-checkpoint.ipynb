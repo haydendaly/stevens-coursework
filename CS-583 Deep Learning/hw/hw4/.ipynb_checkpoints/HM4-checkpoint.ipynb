{
 "cells": [
  {
   "cell_type": "markdown",
   "metadata": {},
   "source": [
    "# Home 4: Build a CNN for image recognition.\n",
    "\n",
    "### Name: [Your-Name?]\n"
   ]
  },
  {
   "cell_type": "markdown",
   "metadata": {},
   "source": [
    "## 0. You will do the following:\n",
    "\n",
    "1. Read, complete, and run the code.\n",
    "\n",
    "2. **Make substantial improvements** to maximize the accurcy.\n",
    "    \n",
    "3. Convert the .IPYNB file to .HTML file.\n",
    "\n",
    "    * The HTML file must contain the code and the output after execution.\n",
    "    \n",
    "    * Missing **the output after execution** will not be graded.\n",
    "    \n",
    "4. Upload this .HTML file to your Google Drive, Dropbox, or Github repo. (If you submit the file to Google Drive or Dropbox, you must make the file \"open-access\". The delay caused by \"deny of access\" may result in late penalty.)\n",
    "\n",
    "4. Submit the link to this .HTML file to Canvas.\n",
    "\n",
    "    * Example: https://github.com/wangshusen/CS583-2020S/blob/master/homework/HM4/HM4.html\n",
    "\n",
    "\n",
    "## Requirements:\n",
    "\n",
    "1. You can use whatever CNN architecture, including VGG, Inception, and ResNet. However, you must build the networks layer by layer. You must NOT import the archetectures from ```keras.applications```.\n",
    "\n",
    "2. Make sure ```BatchNormalization``` is between a ```Conv```/```Dense``` layer and an ```activation``` layer.\n",
    "\n",
    "3. If you want to regularize a ```Conv```/```Dense``` layer, you should place a ```Dropout``` layer **before** the ```Conv```/```Dense``` layer.\n",
    "\n",
    "4. An accuracy above 70% is considered reasonable. An accuracy above 80% is considered good. Without data augmentation, achieving 80% accuracy is difficult.\n",
    "\n",
    "\n",
    "## Google Colab\n",
    "\n",
    "- If you do not have GPU, the training of a CNN can be slow. Google Colab is a good option.\n",
    "\n",
    "- Keep in mind that you must download it as an IPYNB file and then use IPython Notebook to convert it to HTML.\n",
    "\n",
    "- Also keep in mind that the IPYNB and HTML files must contain the outputs. (Otherwise, the instructor will not be able to know the correctness and performance.) Do the followings to keep the outputs.\n",
    "\n",
    "- In Colab, go to ```Runtime``` --> ```Change runtime type``` --> Do NOT check ```Omit code cell output when saving this notebook```. In this way, the downloaded IPYNB file contains the outputs."
   ]
  },
  {
   "cell_type": "markdown",
   "metadata": {},
   "source": [
    "## 1. Data preparation"
   ]
  },
  {
   "cell_type": "markdown",
   "metadata": {},
   "source": [
    "### 1.1. Load data\n"
   ]
  },
  {
   "cell_type": "code",
   "execution_count": 1,
   "metadata": {},
   "outputs": [
    {
     "name": "stdout",
     "output_type": "stream",
     "text": [
      "shape of x_train: (50000, 32, 32, 3)\n",
      "shape of y_train: (50000, 1)\n",
      "shape of x_test: (10000, 32, 32, 3)\n",
      "shape of y_test: (10000, 1)\n",
      "number of classes: 10\n"
     ]
    }
   ],
   "source": [
    "from keras.datasets import cifar10\n",
    "import numpy\n",
    "\n",
    "(x_train, y_train), (x_test, y_test) = cifar10.load_data()\n",
    "\n",
    "print('shape of x_train: ' + str(x_train.shape))\n",
    "print('shape of y_train: ' + str(y_train.shape))\n",
    "print('shape of x_test: ' + str(x_test.shape))\n",
    "print('shape of y_test: ' + str(y_test.shape))\n",
    "print('number of classes: ' + str(numpy.max(y_train) - numpy.min(y_train) + 1))"
   ]
  },
  {
   "cell_type": "markdown",
   "metadata": {},
   "source": [
    "### 1.2. One-hot encode the labels\n",
    "\n",
    "In the input, a label is a scalar in $\\{0, 1, \\cdots , 9\\}$. One-hot encode transform such a scalar to a $10$-dim vector. E.g., a scalar ```y_train[j]=3``` is transformed to the vector ```y_train_vec[j]=[0, 0, 0, 1, 0, 0, 0, 0, 0, 0]```.\n",
    "\n",
    "1. Define a function ```to_one_hot``` that transforms an $n\\times 1$ array to a $n\\times 10$ matrix.\n",
    "\n",
    "2. Apply the function to ```y_train``` and ```y_test```."
   ]
  },
  {
   "cell_type": "code",
   "execution_count": 2,
   "metadata": {},
   "outputs": [
    {
     "name": "stdout",
     "output_type": "stream",
     "text": [
      "Shape of y_train_vec: (50000, 10)\n",
      "Shape of y_test_vec: (10000, 10)\n",
      "[6]\n",
      "[0. 0. 0. 0. 0. 0. 1. 0. 0. 0.]\n"
     ]
    }
   ],
   "source": [
    "def to_one_hot(y, num_class=10):\n",
    "    l, _ = y.shape\n",
    "    new_y = numpy.zeros((l, num_class))\n",
    "    for i in range(l):\n",
    "        new_y[i][y[i]] = 1\n",
    "    return new_y\n",
    "\n",
    "y_train_vec = to_one_hot(y_train)\n",
    "y_test_vec = to_one_hot(y_test)\n",
    "\n",
    "print('Shape of y_train_vec: ' + str(y_train_vec.shape))\n",
    "print('Shape of y_test_vec: ' + str(y_test_vec.shape))\n",
    "\n",
    "print(y_train[0])\n",
    "print(y_train_vec[0])"
   ]
  },
  {
   "cell_type": "markdown",
   "metadata": {},
   "source": [
    "#### Remark: the outputs should be\n",
    "* Shape of y_train_vec: (50000, 10)\n",
    "* Shape of y_test_vec: (10000, 10)\n",
    "* [6]\n",
    "* [0. 0. 0. 0. 0. 0. 1. 0. 0. 0.]"
   ]
  },
  {
   "cell_type": "markdown",
   "metadata": {},
   "source": [
    "### 1.3. Randomly partition the training set to training and validation sets\n",
    "\n",
    "Randomly partition the 50K training samples to 2 sets:\n",
    "* a training set containing 40K samples\n",
    "* a validation set containing 10K samples\n"
   ]
  },
  {
   "cell_type": "code",
   "execution_count": 3,
   "metadata": {},
   "outputs": [
    {
     "name": "stdout",
     "output_type": "stream",
     "text": [
      "Shape of x_tr: (40000, 32, 32, 3)\n",
      "Shape of y_tr: (40000, 10)\n",
      "Shape of x_val: (10000, 32, 32, 3)\n",
      "Shape of y_val: (10000, 10)\n"
     ]
    }
   ],
   "source": [
    "rand_indices = numpy.random.permutation(50000)\n",
    "train_indices = rand_indices[0:40000]\n",
    "valid_indices = rand_indices[40000:50000]\n",
    "\n",
    "x_val = x_train[valid_indices, :]\n",
    "y_val = y_train_vec[valid_indices, :]\n",
    "\n",
    "x_tr = x_train[train_indices, :]\n",
    "y_tr = y_train_vec[train_indices, :]\n",
    "\n",
    "print('Shape of x_tr: ' + str(x_tr.shape))\n",
    "print('Shape of y_tr: ' + str(y_tr.shape))\n",
    "print('Shape of x_val: ' + str(x_val.shape))\n",
    "print('Shape of y_val: ' + str(y_val.shape))"
   ]
  },
  {
   "cell_type": "markdown",
   "metadata": {},
   "source": [
    "## 2. Build a CNN and tune its hyper-parameters\n",
    "\n",
    "1. Build a convolutional neural network model\n",
    "2. Use the validation data to tune the hyper-parameters (e.g., network structure, and optimization algorithm)\n",
    "    * Do NOT use test data for hyper-parameter tuning!!!\n",
    "3. Try to achieve a validation accuracy as high as possible."
   ]
  },
  {
   "cell_type": "markdown",
   "metadata": {},
   "source": [
    "### Remark: \n",
    "\n",
    "The following CNN is just an example. You are supposed to make **substantial improvements** such as:\n",
    "* Add more layers.\n",
    "* Use regularizations, e.g., dropout.\n",
    "* Use batch normalization."
   ]
  },
  {
   "cell_type": "code",
   "execution_count": 14,
   "metadata": {},
   "outputs": [
    {
     "name": "stdout",
     "output_type": "stream",
     "text": [
      "Model: \"sequential_1\"\n",
      "_________________________________________________________________\n",
      "Layer (type)                 Output Shape              Param #   \n",
      "=================================================================\n",
      "conv2d_4 (Conv2D)            (None, 32, 32, 32)        896       \n",
      "_________________________________________________________________\n",
      "conv2d_5 (Conv2D)            (None, 30, 30, 32)        9248      \n",
      "_________________________________________________________________\n",
      "max_pooling2d_2 (MaxPooling2 (None, 15, 15, 32)        0         \n",
      "_________________________________________________________________\n",
      "dropout_3 (Dropout)          (None, 15, 15, 32)        0         \n",
      "_________________________________________________________________\n",
      "conv2d_6 (Conv2D)            (None, 15, 15, 64)        18496     \n",
      "_________________________________________________________________\n",
      "conv2d_7 (Conv2D)            (None, 13, 13, 64)        36928     \n",
      "_________________________________________________________________\n",
      "max_pooling2d_3 (MaxPooling2 (None, 6, 6, 64)          0         \n",
      "_________________________________________________________________\n",
      "dropout_4 (Dropout)          (None, 6, 6, 64)          0         \n",
      "_________________________________________________________________\n",
      "flatten_1 (Flatten)          (None, 2304)              0         \n",
      "_________________________________________________________________\n",
      "dense_2 (Dense)              (None, 512)               1180160   \n",
      "_________________________________________________________________\n",
      "dropout_5 (Dropout)          (None, 512)               0         \n",
      "_________________________________________________________________\n",
      "dense_3 (Dense)              (None, 10)                5130      \n",
      "=================================================================\n",
      "Total params: 1,250,858\n",
      "Trainable params: 1,250,858\n",
      "Non-trainable params: 0\n",
      "_________________________________________________________________\n"
     ]
    }
   ],
   "source": [
    "from keras.layers import Conv2D, MaxPooling2D, Flatten, Dense, BatchNormalization, Dropout\n",
    "from keras.models import Sequential\n",
    "\n",
    "model = Sequential()\n",
    "\n",
    "model.add(Conv2D(32, (3, 3), activation='relu', padding='same', input_shape=(32, 32, 3)))\n",
    "model.add(Conv2D(32, (3, 3), activation='relu'))\n",
    "model.add(MaxPooling2D())\n",
    "model.add(Dropout(0.25))\n",
    "\n",
    "model.add(Conv2D(64, (3, 3), activation='relu', padding='same'))\n",
    "model.add(Conv2D(64, (3, 3), activation='relu'))\n",
    "model.add(MaxPooling2D())\n",
    "model.add(Dropout(0.25))\n",
    "\n",
    "model.add(Flatten())\n",
    "model.add(Dense(512, activation='relu'))\n",
    "model.add(Dropout(0.5))\n",
    "model.add(Dense(10, activation='softmax'))\n",
    "\n",
    "model.summary()"
   ]
  },
  {
   "cell_type": "code",
   "execution_count": 17,
   "metadata": {},
   "outputs": [],
   "source": [
    "from keras import optimizers\n",
    "\n",
    "learning_rate = 1E-5\n",
    "decay = 1E-6\n",
    "\n",
    "model.compile(loss='categorical_crossentropy',\n",
    "              optimizer=optimizers.RMSprop(lr=learning_rate, decay=decay),\n",
    "              metrics=['acc'])"
   ]
  },
  {
   "cell_type": "code",
   "execution_count": 18,
   "metadata": {},
   "outputs": [
    {
     "name": "stdout",
     "output_type": "stream",
     "text": [
      "Epoch 1/50\n",
      "1250/1250 [==============================] - 90s 71ms/step - loss: 22.3687 - acc: 0.1151 - val_loss: 2.1879 - val_acc: 0.2170\n",
      "Epoch 2/50\n",
      "1250/1250 [==============================] - 89s 71ms/step - loss: 2.2983 - acc: 0.1671 - val_loss: 2.0356 - val_acc: 0.2614\n",
      "Epoch 3/50\n",
      "1250/1250 [==============================] - 87s 70ms/step - loss: 2.1162 - acc: 0.2183 - val_loss: 1.8889 - val_acc: 0.3235\n",
      "Epoch 4/50\n",
      "1250/1250 [==============================] - 2273s 2s/step - loss: 1.9930 - acc: 0.2614 - val_loss: 1.8096 - val_acc: 0.3573\n",
      "Epoch 5/50\n",
      "1250/1250 [==============================] - 83s 67ms/step - loss: 1.9140 - acc: 0.2904 - val_loss: 1.7432 - val_acc: 0.3861\n",
      "Epoch 6/50\n",
      "1250/1250 [==============================] - 222s 178ms/step - loss: 1.8524 - acc: 0.3200 - val_loss: 1.6887 - val_acc: 0.3996\n",
      "Epoch 7/50\n",
      "1250/1250 [==============================] - 489s 391ms/step - loss: 1.7828 - acc: 0.3443 - val_loss: 1.6476 - val_acc: 0.4143\n",
      "Epoch 8/50\n",
      "1250/1250 [==============================] - 78s 63ms/step - loss: 1.7436 - acc: 0.3613 - val_loss: 1.5985 - val_acc: 0.4296\n",
      "Epoch 9/50\n",
      "1250/1250 [==============================] - 2461s 2s/step - loss: 1.7020 - acc: 0.3712 - val_loss: 1.5763 - val_acc: 0.4366\n",
      "Epoch 10/50\n",
      "1250/1250 [==============================] - 253s 203ms/step - loss: 1.6807 - acc: 0.3835 - val_loss: 1.5324 - val_acc: 0.4529\n",
      "Epoch 11/50\n",
      "1250/1250 [==============================] - 81s 64ms/step - loss: 1.6376 - acc: 0.4001 - val_loss: 1.5165 - val_acc: 0.4572\n",
      "Epoch 12/50\n",
      "1250/1250 [==============================] - 82s 66ms/step - loss: 1.6042 - acc: 0.4089 - val_loss: 1.5073 - val_acc: 0.4576\n",
      "Epoch 13/50\n",
      "1250/1250 [==============================] - 80s 64ms/step - loss: 1.5742 - acc: 0.4203 - val_loss: 1.4614 - val_acc: 0.4778\n",
      "Epoch 14/50\n",
      "1250/1250 [==============================] - 82s 65ms/step - loss: 1.5473 - acc: 0.4361 - val_loss: 1.4506 - val_acc: 0.4848\n",
      "Epoch 15/50\n",
      "1250/1250 [==============================] - 82s 65ms/step - loss: 1.5285 - acc: 0.4424 - val_loss: 1.4380 - val_acc: 0.4885\n",
      "Epoch 16/50\n",
      "1250/1250 [==============================] - 81s 65ms/step - loss: 1.5031 - acc: 0.4492 - val_loss: 1.4175 - val_acc: 0.4945\n",
      "Epoch 17/50\n",
      "1250/1250 [==============================] - 83s 66ms/step - loss: 1.4982 - acc: 0.4592 - val_loss: 1.3934 - val_acc: 0.4986\n",
      "Epoch 18/50\n",
      "1250/1250 [==============================] - 83s 66ms/step - loss: 1.4745 - acc: 0.4660 - val_loss: 1.3956 - val_acc: 0.4962\n",
      "Epoch 19/50\n",
      "1250/1250 [==============================] - 82s 66ms/step - loss: 1.4553 - acc: 0.4704 - val_loss: 1.3628 - val_acc: 0.5079\n",
      "Epoch 20/50\n",
      "1250/1250 [==============================] - 84s 67ms/step - loss: 1.4430 - acc: 0.4758 - val_loss: 1.3685 - val_acc: 0.5054\n",
      "Epoch 21/50\n",
      "1250/1250 [==============================] - 84s 67ms/step - loss: 1.4354 - acc: 0.4790 - val_loss: 1.3493 - val_acc: 0.5155\n",
      "Epoch 22/50\n",
      "1250/1250 [==============================] - 83s 67ms/step - loss: 1.4022 - acc: 0.4889 - val_loss: 1.3148 - val_acc: 0.5296\n",
      "Epoch 23/50\n",
      "1250/1250 [==============================] - 84s 67ms/step - loss: 1.3992 - acc: 0.4918 - val_loss: 1.3268 - val_acc: 0.5262\n",
      "Epoch 24/50\n",
      "1250/1250 [==============================] - 87s 69ms/step - loss: 1.3862 - acc: 0.4944 - val_loss: 1.2953 - val_acc: 0.5368\n",
      "Epoch 25/50\n",
      "1250/1250 [==============================] - 85s 68ms/step - loss: 1.3707 - acc: 0.5079 - val_loss: 1.2852 - val_acc: 0.5443\n",
      "Epoch 26/50\n",
      "1250/1250 [==============================] - 85s 68ms/step - loss: 1.3480 - acc: 0.5130 - val_loss: 1.2749 - val_acc: 0.5476\n",
      "Epoch 27/50\n",
      "1250/1250 [==============================] - 86s 68ms/step - loss: 1.3378 - acc: 0.5152 - val_loss: 1.2590 - val_acc: 0.5513\n",
      "Epoch 28/50\n",
      "1250/1250 [==============================] - 85s 68ms/step - loss: 1.3292 - acc: 0.5168 - val_loss: 1.2484 - val_acc: 0.5588\n",
      "Epoch 29/50\n",
      "1250/1250 [==============================] - 85s 68ms/step - loss: 1.3179 - acc: 0.5272 - val_loss: 1.2491 - val_acc: 0.5553\n",
      "Epoch 30/50\n",
      "1250/1250 [==============================] - 86s 68ms/step - loss: 1.3034 - acc: 0.5331 - val_loss: 1.2335 - val_acc: 0.5618\n",
      "Epoch 31/50\n",
      "1250/1250 [==============================] - 85s 68ms/step - loss: 1.2974 - acc: 0.5336 - val_loss: 1.2271 - val_acc: 0.5637\n",
      "Epoch 32/50\n",
      "1250/1250 [==============================] - 85s 68ms/step - loss: 1.2788 - acc: 0.5389 - val_loss: 1.2216 - val_acc: 0.5664\n",
      "Epoch 33/50\n",
      "1250/1250 [==============================] - 86s 69ms/step - loss: 1.2772 - acc: 0.5471 - val_loss: 1.1985 - val_acc: 0.5782 - ETA: 0s - loss: 1.2773 \n",
      "Epoch 34/50\n",
      "1250/1250 [==============================] - 86s 69ms/step - loss: 1.2672 - acc: 0.5503 - val_loss: 1.1946 - val_acc: 0.5755\n",
      "Epoch 35/50\n",
      "1250/1250 [==============================] - 84s 67ms/step - loss: 1.2523 - acc: 0.5519 - val_loss: 1.1837 - val_acc: 0.5807\n",
      "Epoch 36/50\n",
      "1250/1250 [==============================] - 83s 67ms/step - loss: 1.2492 - acc: 0.5547 - val_loss: 1.1810 - val_acc: 0.5806\n",
      "Epoch 37/50\n",
      "1250/1250 [==============================] - 84s 67ms/step - loss: 1.2420 - acc: 0.5558 - val_loss: 1.1753 - val_acc: 0.5871\n",
      "Epoch 38/50\n",
      "1250/1250 [==============================] - 84s 67ms/step - loss: 1.2292 - acc: 0.5644 - val_loss: 1.1432 - val_acc: 0.5979\n",
      "Epoch 39/50\n",
      "1250/1250 [==============================] - 84s 67ms/step - loss: 1.2246 - acc: 0.5605 - val_loss: 1.1626 - val_acc: 0.5887\n",
      "Epoch 40/50\n",
      "1250/1250 [==============================] - 85s 68ms/step - loss: 1.2266 - acc: 0.5645 - val_loss: 1.1456 - val_acc: 0.5964\n",
      "Epoch 41/50\n",
      "1250/1250 [==============================] - 85s 68ms/step - loss: 1.2121 - acc: 0.5689 - val_loss: 1.1321 - val_acc: 0.6029\n",
      "Epoch 42/50\n",
      "1250/1250 [==============================] - 86s 69ms/step - loss: 1.1915 - acc: 0.5768 - val_loss: 1.1430 - val_acc: 0.5970\n",
      "Epoch 43/50\n",
      "1250/1250 [==============================] - 86s 69ms/step - loss: 1.1787 - acc: 0.5819 - val_loss: 1.1341 - val_acc: 0.6035\n",
      "Epoch 44/50\n",
      "1250/1250 [==============================] - 87s 69ms/step - loss: 1.1917 - acc: 0.5824 - val_loss: 1.1276 - val_acc: 0.6037\n",
      "Epoch 45/50\n",
      "1250/1250 [==============================] - 86s 69ms/step - loss: 1.1671 - acc: 0.5878 - val_loss: 1.1153 - val_acc: 0.6082\n",
      "Epoch 46/50\n",
      "1250/1250 [==============================] - 85s 68ms/step - loss: 1.1617 - acc: 0.5944 - val_loss: 1.0981 - val_acc: 0.6143\n",
      "Epoch 47/50\n",
      "1250/1250 [==============================] - 83s 67ms/step - loss: 1.1664 - acc: 0.5875 - val_loss: 1.0882 - val_acc: 0.6192\n",
      "Epoch 48/50\n",
      "1250/1250 [==============================] - 84s 67ms/step - loss: 1.1634 - acc: 0.5874 - val_loss: 1.0906 - val_acc: 0.6200\n",
      "Epoch 49/50\n",
      "1250/1250 [==============================] - 88s 71ms/step - loss: 1.1326 - acc: 0.6006 - val_loss: 1.0954 - val_acc: 0.6171\n",
      "Epoch 50/50\n",
      "1250/1250 [==============================] - 94s 75ms/step - loss: 1.1318 - acc: 0.5964 - val_loss: 1.0826 - val_acc: 0.6184\n"
     ]
    }
   ],
   "source": [
    "history = model.fit(x_tr, y_tr, batch_size=32, epochs=50, validation_data=(x_val, y_val))"
   ]
  },
  {
   "cell_type": "code",
   "execution_count": 20,
   "metadata": {
    "scrolled": true
   },
   "outputs": [
    {
     "data": {
      "image/png": "[encoded data removed]",
      "text/plain": [
       "<Figure size 432x288 with 1 Axes>"
      ]
     },
     "metadata": {
      "needs_background": "light"
     },
     "output_type": "display_data"
    }
   ],
   "source": [
    "import matplotlib.pyplot as plt\n",
    "%matplotlib inline\n",
    "\n",
    "acc = history.history['acc']\n",
    "val_acc = history.history['val_acc']\n",
    "\n",
    "epochs = range(len(acc))\n",
    "\n",
    "plt.plot(epochs, acc, 'bo', label='Training acc')\n",
    "plt.plot(epochs, val_acc, 'r', label='Validation acc')\n",
    "plt.xlabel('Epochs')\n",
    "plt.ylabel('Accuracy')\n",
    "plt.legend()\n",
    "plt.show()"
   ]
  },
  {
   "cell_type": "code",
   "execution_count": 21,
   "metadata": {},
   "outputs": [
    {
     "name": "stdout",
     "output_type": "stream",
     "text": [
      "INFO:tensorflow:Assets written to: ./models/advanced/assets\n"
     ]
    }
   ],
   "source": [
    "model.save('./models/advanced')"
   ]
  },
  {
   "cell_type": "code",
   "execution_count": 13,
   "metadata": {},
   "outputs": [
    {
     "name": "stdout",
     "output_type": "stream",
     "text": [
      "Model: \"sequential\"\n",
      "_________________________________________________________________\n",
      "Layer (type)                 Output Shape              Param #   \n",
      "=================================================================\n",
      "conv2d (Conv2D)              (None, 32, 32, 32)        896       \n",
      "_________________________________________________________________\n",
      "conv2d_1 (Conv2D)            (None, 30, 30, 32)        9248      \n",
      "_________________________________________________________________\n",
      "max_pooling2d (MaxPooling2D) (None, 15, 15, 32)        0         \n",
      "_________________________________________________________________\n",
      "dropout (Dropout)            (None, 15, 15, 32)        0         \n",
      "_________________________________________________________________\n",
      "conv2d_2 (Conv2D)            (None, 15, 15, 64)        18496     \n",
      "_________________________________________________________________\n",
      "conv2d_3 (Conv2D)            (None, 13, 13, 64)        36928     \n",
      "_________________________________________________________________\n",
      "max_pooling2d_1 (MaxPooling2 (None, 6, 6, 64)          0         \n",
      "_________________________________________________________________\n",
      "dropout_1 (Dropout)          (None, 6, 6, 64)          0         \n",
      "_________________________________________________________________\n",
      "flatten (Flatten)            (None, 2304)              0         \n",
      "_________________________________________________________________\n",
      "dense (Dense)                (None, 512)               1180160   \n",
      "_________________________________________________________________\n",
      "dropout_2 (Dropout)          (None, 512)               0         \n",
      "_________________________________________________________________\n",
      "dense_1 (Dense)              (None, 10)                5130      \n",
      "=================================================================\n",
      "Total params: 1,250,858\n",
      "Trainable params: 1,250,858\n",
      "Non-trainable params: 0\n",
      "_________________________________________________________________\n"
     ]
    }
   ],
   "source": [
    "from keras import models\n",
    "\n",
    "new_model = models.load_model('models/basic2')\n",
    "new_model.summary()"
   ]
  },
  {
   "cell_type": "markdown",
   "metadata": {},
   "source": [
    "## 3. Train (again) and evaluate the model\n",
    "\n",
    "- To this end, you have found the \"best\" hyper-parameters. \n",
    "- Now, fix the hyper-parameters and train the network on the entire training set (all the 50K training samples)\n",
    "- Evaluate your model on the test set."
   ]
  },
  {
   "cell_type": "markdown",
   "metadata": {},
   "source": [
    "### 3.1. Train the model on the entire training set\n",
    "\n",
    "Why? Previously, you used 40K samples for training; you wasted 10K samples for the sake of hyper-parameter tuning. Now you already know the hyper-parameters, so why not using all the 50K samples for training?"
   ]
  },
  {
   "cell_type": "code",
   "execution_count": 22,
   "metadata": {},
   "outputs": [],
   "source": [
    "from keras import optimizers\n",
    "\n",
    "learning_rate = 1E-5\n",
    "decay = 1E-6\n",
    "\n",
    "model.compile(loss='categorical_crossentropy',\n",
    "              optimizer=optimizers.RMSprop(lr=learning_rate, decay=decay),\n",
    "              metrics=['acc'])"
   ]
  },
  {
   "cell_type": "code",
   "execution_count": 23,
   "metadata": {},
   "outputs": [
    {
     "name": "stdout",
     "output_type": "stream",
     "text": [
      "Epoch 1/50\n",
      "1563/1563 [==============================] - 128s 81ms/step - loss: 1.1460 - acc: 0.5979\n",
      "Epoch 2/50\n",
      "1563/1563 [==============================] - 134s 86ms/step - loss: 1.1432 - acc: 0.5994\n",
      "Epoch 3/50\n",
      "1563/1563 [==============================] - 125s 80ms/step - loss: 1.1283 - acc: 0.6035\n",
      "Epoch 4/50\n",
      "1563/1563 [==============================] - 126s 81ms/step - loss: 1.1224 - acc: 0.6042\n",
      "Epoch 5/50\n",
      "1563/1563 [==============================] - 126s 80ms/step - loss: 1.1240 - acc: 0.6055\n",
      "Epoch 6/50\n",
      "1563/1563 [==============================] - 128s 82ms/step - loss: 1.1071 - acc: 0.6088\n",
      "Epoch 7/50\n",
      "1563/1563 [==============================] - 125s 80ms/step - loss: 1.1103 - acc: 0.6123\n",
      "Epoch 8/50\n",
      "1563/1563 [==============================] - 106s 68ms/step - loss: 1.0991 - acc: 0.6128\n",
      "Epoch 9/50\n",
      "1563/1563 [==============================] - 106s 68ms/step - loss: 1.0861 - acc: 0.6205\n",
      "Epoch 10/50\n",
      "1563/1563 [==============================] - 113s 72ms/step - loss: 1.0890 - acc: 0.6201\n",
      "Epoch 11/50\n",
      "1563/1563 [==============================] - 2055s 1s/step - loss: 1.0739 - acc: 0.6235\n",
      "Epoch 12/50\n",
      "1563/1563 [==============================] - 320s 204ms/step - loss: 1.0733 - acc: 0.6237\n",
      "Epoch 13/50\n",
      "1563/1563 [==============================] - 4422s 3s/step - loss: 1.0724 - acc: 0.6277\n",
      "Epoch 14/50\n",
      "1563/1563 [==============================] - 1628s 1s/step - loss: 1.0592 - acc: 0.6281\n",
      "Epoch 15/50\n",
      "1563/1563 [==============================] - 1504s 963ms/step - loss: 1.0642 - acc: 0.6302\n",
      "Epoch 16/50\n",
      "1563/1563 [==============================] - 108s 69ms/step - loss: 1.0447 - acc: 0.6334\n",
      "Epoch 17/50\n",
      "1563/1563 [==============================] - 109s 69ms/step - loss: 1.0586 - acc: 0.6321\n",
      "Epoch 18/50\n",
      "1563/1563 [==============================] - 110s 70ms/step - loss: 1.0561 - acc: 0.6340\n",
      "Epoch 19/50\n",
      "1563/1563 [==============================] - 110s 70ms/step - loss: 1.0563 - acc: 0.6308\n",
      "Epoch 20/50\n",
      "1563/1563 [==============================] - 109s 70ms/step - loss: 1.0138 - acc: 0.64552s - loss: 1.0134  - ETA: 1s - loss: 1.0\n",
      "Epoch 21/50\n",
      "1563/1563 [==============================] - 1295s 829ms/step - loss: 1.0322 - acc: 0.6416\n",
      "Epoch 22/50\n",
      "1563/1563 [==============================] - 111s 71ms/step - loss: 1.0225 - acc: 0.6431\n",
      "Epoch 23/50\n",
      "1563/1563 [==============================] - 111s 71ms/step - loss: 1.0296 - acc: 0.6447\n",
      "Epoch 24/50\n",
      "1563/1563 [==============================] - 112s 72ms/step - loss: 1.0079 - acc: 0.6465\n",
      "Epoch 25/50\n",
      "1563/1563 [==============================] - 112s 72ms/step - loss: 1.0220 - acc: 0.6445\n",
      "Epoch 26/50\n",
      "1563/1563 [==============================] - 112s 72ms/step - loss: 1.0078 - acc: 0.6483\n",
      "Epoch 27/50\n",
      "1563/1563 [==============================] - 114s 73ms/step - loss: 1.0142 - acc: 0.6494\n",
      "Epoch 28/50\n",
      "1563/1563 [==============================] - 113s 73ms/step - loss: 1.0089 - acc: 0.6466\n",
      "Epoch 29/50\n",
      "1563/1563 [==============================] - 115s 74ms/step - loss: 1.0052 - acc: 0.6507\n",
      "Epoch 30/50\n",
      "1563/1563 [==============================] - 114s 73ms/step - loss: 0.9961 - acc: 0.6548\n",
      "Epoch 31/50\n",
      "1563/1563 [==============================] - 112s 72ms/step - loss: 0.9960 - acc: 0.6561\n",
      "Epoch 32/50\n",
      "1563/1563 [==============================] - 113s 72ms/step - loss: 0.9849 - acc: 0.6578\n",
      "Epoch 33/50\n",
      "1563/1563 [==============================] - 113s 72ms/step - loss: 0.9960 - acc: 0.6550\n",
      "Epoch 34/50\n",
      "1563/1563 [==============================] - 113s 72ms/step - loss: 0.9840 - acc: 0.6617\n",
      "Epoch 35/50\n",
      "1563/1563 [==============================] - 113s 72ms/step - loss: 0.9746 - acc: 0.6610\n",
      "Epoch 36/50\n",
      "1563/1563 [==============================] - 115s 73ms/step - loss: 0.9843 - acc: 0.6573\n",
      "Epoch 37/50\n",
      "1563/1563 [==============================] - 116s 74ms/step - loss: 0.9692 - acc: 0.6642\n",
      "Epoch 38/50\n",
      "1563/1563 [==============================] - 112s 72ms/step - loss: 0.9687 - acc: 0.6644\n",
      "Epoch 39/50\n",
      "1563/1563 [==============================] - 104s 67ms/step - loss: 0.9694 - acc: 0.6625\n",
      "Epoch 40/50\n",
      "1563/1563 [==============================] - 108s 69ms/step - loss: 0.9671 - acc: 0.6663\n",
      "Epoch 41/50\n",
      "1563/1563 [==============================] - 108s 69ms/step - loss: 0.9651 - acc: 0.6665\n",
      "Epoch 42/50\n",
      "1563/1563 [==============================] - 107s 69ms/step - loss: 0.9604 - acc: 0.6687\n",
      "Epoch 43/50\n",
      "1563/1563 [==============================] - 108s 69ms/step - loss: 0.9635 - acc: 0.6667\n",
      "Epoch 44/50\n",
      "1563/1563 [==============================] - 108s 69ms/step - loss: 0.9614 - acc: 0.66851s - loss: 0.96\n",
      "Epoch 45/50\n",
      "1563/1563 [==============================] - 107s 69ms/step - loss: 0.9423 - acc: 0.6773\n",
      "Epoch 46/50\n",
      "1563/1563 [==============================] - 108s 69ms/step - loss: 0.9467 - acc: 0.6755\n",
      "Epoch 47/50\n",
      "1563/1563 [==============================] - 107s 69ms/step - loss: 0.9486 - acc: 0.6741\n",
      "Epoch 48/50\n",
      "1563/1563 [==============================] - 108s 69ms/step - loss: 0.9441 - acc: 0.6730\n",
      "Epoch 49/50\n",
      "1563/1563 [==============================] - 109s 70ms/step - loss: 0.9477 - acc: 0.6721\n",
      "Epoch 50/50\n",
      "1563/1563 [==============================] - 109s 70ms/step - loss: 0.9444 - acc: 0.6738\n"
     ]
    }
   ],
   "source": [
    "# <Train your model on the entire training set (50K samples)>\n",
    "# <Use (x_train, y_train_vec) instead of (x_tr, y_tr)>\n",
    "# <Do NOT use the validation_data option (because now you do not have validation data)>\n",
    "history = model.fit(x_train, y_train_vec, batch_size=32, epochs=50)"
   ]
  },
  {
   "cell_type": "markdown",
   "metadata": {},
   "source": [
    "### 3.2. Evaluate the model on the test set\n",
    "\n",
    "Do NOT used the test set until now. Make sure that your model parameters and hyper-parameters are independent of the test set."
   ]
  },
  {
   "cell_type": "code",
   "execution_count": 24,
   "metadata": {},
   "outputs": [
    {
     "name": "stdout",
     "output_type": "stream",
     "text": [
      "313/313 [==============================] - 3s 10ms/step - loss: 0.9084 - acc: 0.6971\n",
      "loss = 0.9084088802337646\n",
      "accuracy = 0.6970999836921692\n"
     ]
    }
   ],
   "source": [
    "loss_and_acc = model.evaluate(x_test, y_test_vec)\n",
    "print('loss = ' + str(loss_and_acc[0]))\n",
    "print('accuracy = ' + str(loss_and_acc[1]))"
   ]
  },
  {
   "cell_type": "code",
   "execution_count": null,
   "metadata": {},
   "outputs": [],
   "source": []
  }
 ],
 "metadata": {
  "kernelspec": {
   "display_name": "583_2",
   "language": "python",
   "name": "583_2"
  },
  "language_info": {
   "codemirror_mode": {
    "name": "ipython",
    "version": 3
   },
   "file_extension": ".py",
   "mimetype": "text/x-python",
   "name": "python",
   "nbconvert_exporter": "python",
   "pygments_lexer": "ipython3",
   "version": "3.8.1"
  }
 },
 "nbformat": 4,
 "nbformat_minor": 2
}
